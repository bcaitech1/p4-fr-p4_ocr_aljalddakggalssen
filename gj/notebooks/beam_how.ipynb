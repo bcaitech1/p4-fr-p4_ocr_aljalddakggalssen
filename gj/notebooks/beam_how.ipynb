{
 "cells": [
  {
   "cell_type": "code",
   "execution_count": 1,
   "id": "0e52c338-56fd-40fd-a329-b1b2df20e28b",
   "metadata": {},
   "outputs": [],
   "source": [
    "import torch"
   ]
  },
  {
   "cell_type": "code",
   "execution_count": 2,
   "id": "ccc3854e-53cf-4583-9001-6e4accf2a4ab",
   "metadata": {},
   "outputs": [
    {
     "ename": "TypeError",
     "evalue": "randint(): argument 'size' (position 2) must be tuple of ints, not int",
     "output_type": "error",
     "traceback": [
      "\u001b[0;31m---------------------------------------------------------------------------\u001b[0m",
      "\u001b[0;31mTypeError\u001b[0m                                 Traceback (most recent call last)",
      "\u001b[0;32m<ipython-input-2-9ed44a42b8be>\u001b[0m in \u001b[0;36m<module>\u001b[0;34m\u001b[0m\n\u001b[0;32m----> 1\u001b[0;31m \u001b[0ma\u001b[0m \u001b[0;34m=\u001b[0m \u001b[0;34m[\u001b[0m\u001b[0mtorch\u001b[0m\u001b[0;34m.\u001b[0m\u001b[0mrandint\u001b[0m\u001b[0;34m(\u001b[0m\u001b[0;36m5\u001b[0m\u001b[0;34m,\u001b[0m \u001b[0;36m3\u001b[0m\u001b[0;34m)\u001b[0m\u001b[0;34m]\u001b[0m\u001b[0;34m\u001b[0m\u001b[0;34m\u001b[0m\u001b[0m\n\u001b[0m",
      "\u001b[0;31mTypeError\u001b[0m: randint(): argument 'size' (position 2) must be tuple of ints, not int"
     ]
    }
   ],
   "source": [
    "a = [torch.randint(5, 3)]"
   ]
  },
  {
   "cell_type": "code",
   "execution_count": 56,
   "id": "3c73e22e-1b8c-4f2f-9f34-e75253046f35",
   "metadata": {},
   "outputs": [],
   "source": [
    "a = [torch.randint(100, (3,)) for _ in range(4)]"
   ]
  },
  {
   "cell_type": "code",
   "execution_count": 182,
   "id": "7fd1d15b-77e8-436f-973a-1085ec665519",
   "metadata": {},
   "outputs": [
    {
     "data": {
      "text/plain": [
       "[tensor([61, 32, 95]),\n",
       " tensor([46, 58, 30]),\n",
       " tensor([12, 53, 90]),\n",
       " tensor([39, 95, 71])]"
      ]
     },
     "execution_count": 182,
     "metadata": {},
     "output_type": "execute_result"
    }
   ],
   "source": [
    "a"
   ]
  },
  {
   "cell_type": "code",
   "execution_count": 183,
   "id": "b8858a5e-aea0-46cd-9a81-ea1a71d0412d",
   "metadata": {},
   "outputs": [
    {
     "data": {
      "text/plain": [
       "(tensor([[61, 46, 12, 39],\n",
       "         [32, 58, 53, 95],\n",
       "         [95, 30, 90, 71]]),\n",
       " torch.Size([3, 4]))"
      ]
     },
     "execution_count": 183,
     "metadata": {},
     "output_type": "execute_result"
    }
   ],
   "source": [
    "b = torch.stack(a, dim=1)\n",
    "b, b.shape"
   ]
  },
  {
   "cell_type": "code",
   "execution_count": 194,
   "id": "7db79276-1801-49a6-acb1-10bfdd543a86",
   "metadata": {},
   "outputs": [],
   "source": [
    "v, idx = torch.topk(b, 3, dim=1)"
   ]
  },
  {
   "cell_type": "code",
   "execution_count": 197,
   "id": "1c837493-32f9-494e-b71f-992c09b204ba",
   "metadata": {},
   "outputs": [
    {
     "data": {
      "text/plain": [
       "tensor([[61, 46, 39],\n",
       "        [95, 58, 53],\n",
       "        [95, 90, 71]])"
      ]
     },
     "execution_count": 197,
     "metadata": {},
     "output_type": "execute_result"
    }
   ],
   "source": [
    "torch.gather(b, 1, idx)"
   ]
  },
  {
   "cell_type": "code",
   "execution_count": 195,
   "id": "5f23c4ae-25d9-4291-89bb-19ef55c79369",
   "metadata": {},
   "outputs": [
    {
     "data": {
      "text/plain": [
       "tensor([[61, 46, 39],\n",
       "        [95, 58, 53],\n",
       "        [95, 90, 71]])"
      ]
     },
     "execution_count": 195,
     "metadata": {},
     "output_type": "execute_result"
    }
   ],
   "source": [
    "v"
   ]
  },
  {
   "cell_type": "code",
   "execution_count": 196,
   "id": "e9194496-c2a6-46e3-84d3-62c926c13b73",
   "metadata": {},
   "outputs": [
    {
     "data": {
      "text/plain": [
       "tensor([[0, 1, 3],\n",
       "        [3, 1, 2],\n",
       "        [0, 2, 3]])"
      ]
     },
     "execution_count": 196,
     "metadata": {},
     "output_type": "execute_result"
    }
   ],
   "source": [
    "idx"
   ]
  },
  {
   "cell_type": "code",
   "execution_count": 62,
   "id": "bb91643b-f3d2-41bb-ab65-d7b611b944d5",
   "metadata": {},
   "outputs": [
    {
     "data": {
      "text/plain": [
       "tensor([46, 58, 90])"
      ]
     },
     "execution_count": 62,
     "metadata": {},
     "output_type": "execute_result"
    }
   ],
   "source": [
    "v[:, 1]"
   ]
  },
  {
   "cell_type": "code",
   "execution_count": 63,
   "id": "42727bdb-e73c-460a-8ed7-ee9268250053",
   "metadata": {},
   "outputs": [
    {
     "data": {
      "text/plain": [
       "tensor([[61, 95, 95],\n",
       "        [46, 58, 90]])"
      ]
     },
     "execution_count": 63,
     "metadata": {},
     "output_type": "execute_result"
    }
   ],
   "source": [
    "new_a = v.T\n",
    "new_a"
   ]
  },
  {
   "cell_type": "code",
   "execution_count": 179,
   "id": "d7862201-311f-4289-8955-e0b946f060a9",
   "metadata": {},
   "outputs": [
    {
     "data": {
      "text/plain": [
       "[tensor([61, 95, 95]), tensor([46, 58, 90])]"
      ]
     },
     "execution_count": 179,
     "metadata": {},
     "output_type": "execute_result"
    }
   ],
   "source": [
    "list(new_a)"
   ]
  },
  {
   "cell_type": "code",
   "execution_count": 90,
   "id": "e5a87b52-f839-4c65-84cd-89a495565b3d",
   "metadata": {},
   "outputs": [
    {
     "data": {
      "text/plain": [
       "([tensor([[ 0,  1,  2,  3,  4],\n",
       "          [ 5,  6,  7,  8,  9],\n",
       "          [10, 11, 12, 13, 14]]),\n",
       "  tensor([[15, 16, 17, 18, 19],\n",
       "          [20, 21, 22, 23, 24],\n",
       "          [25, 26, 27, 28, 29]]),\n",
       "  tensor([[30, 31, 32, 33, 34],\n",
       "          [35, 36, 37, 38, 39],\n",
       "          [40, 41, 42, 43, 44]]),\n",
       "  tensor([[45, 46, 47, 48, 49],\n",
       "          [50, 51, 52, 53, 54],\n",
       "          [55, 56, 57, 58, 59]])],\n",
       " torch.Size([3, 5]))"
      ]
     },
     "execution_count": 90,
     "metadata": {},
     "output_type": "execute_result"
    }
   ],
   "source": [
    "seq_origin = [torch.arange(3*5*i, 3*5*i+3*5).view(3, 5) for i in range(4)]\n",
    "seq_origin, seq_origin[0].shape"
   ]
  },
  {
   "cell_type": "code",
   "execution_count": 66,
   "id": "47e30e10-6153-48ed-bd6e-5b03b6b89d4e",
   "metadata": {},
   "outputs": [
    {
     "data": {
      "text/plain": [
       "(tensor([[[ 0,  1,  2,  3,  4],\n",
       "          [15, 16, 17, 18, 19],\n",
       "          [30, 31, 32, 33, 34],\n",
       "          [45, 46, 47, 48, 49]],\n",
       " \n",
       "         [[ 5,  6,  7,  8,  9],\n",
       "          [20, 21, 22, 23, 24],\n",
       "          [35, 36, 37, 38, 39],\n",
       "          [50, 51, 52, 53, 54]],\n",
       " \n",
       "         [[10, 11, 12, 13, 14],\n",
       "          [25, 26, 27, 28, 29],\n",
       "          [40, 41, 42, 43, 44],\n",
       "          [55, 56, 57, 58, 59]]]),\n",
       " torch.Size([3, 4, 5]))"
      ]
     },
     "execution_count": 66,
     "metadata": {},
     "output_type": "execute_result"
    }
   ],
   "source": [
    "cat_seq = torch.stack(seq_origin, dim=1)\n",
    "cat_seq, cat_seq.shape"
   ]
  },
  {
   "cell_type": "code",
   "execution_count": 75,
   "id": "4e3305c2-4d49-4c6e-ac73-37290edbd968",
   "metadata": {},
   "outputs": [
    {
     "data": {
      "text/plain": [
       "(tensor([[0, 1],\n",
       "         [3, 1],\n",
       "         [0, 2]]),\n",
       " torch.Size([3, 2]))"
      ]
     },
     "execution_count": 75,
     "metadata": {},
     "output_type": "execute_result"
    }
   ],
   "source": [
    "idx, idx.shape"
   ]
  },
  {
   "cell_type": "code",
   "execution_count": 81,
   "id": "de5c7eac-72f0-4471-a213-32f8cda1fd9d",
   "metadata": {},
   "outputs": [],
   "source": [
    "bidx = idx.unsqueeze(-1).expand(-1, -1, 5)"
   ]
  },
  {
   "cell_type": "code",
   "execution_count": 98,
   "id": "06608136-e7b0-4bcd-8a34-de441d81a102",
   "metadata": {},
   "outputs": [
    {
     "data": {
      "text/plain": [
       "[tensor([[ 0,  1,  2,  3,  4],\n",
       "         [50, 51, 52, 53, 54],\n",
       "         [10, 11, 12, 13, 14]]),\n",
       " tensor([[15, 16, 17, 18, 19],\n",
       "         [20, 21, 22, 23, 24],\n",
       "         [40, 41, 42, 43, 44]])]"
      ]
     },
     "execution_count": 98,
     "metadata": {},
     "output_type": "execute_result"
    }
   ],
   "source": [
    "new_seq = torch.gather(cat_seq, 1, bidx)\n",
    "new_seq = [new_seq[:, i] for i in range(new_seq.size(1))]\n",
    "new_seq"
   ]
  },
  {
   "cell_type": "code",
   "execution_count": 153,
   "id": "137c24e4-fb9d-482f-8ad4-b6b8b44f13cd",
   "metadata": {
    "scrolled": true,
    "tags": []
   },
   "outputs": [
    {
     "data": {
      "text/plain": [
       "[[tensor([[[ 0,  1],\n",
       "           [ 2,  3],\n",
       "           [ 4,  5],\n",
       "           [ 6,  7],\n",
       "           [ 8,  9]],\n",
       "  \n",
       "          [[10, 11],\n",
       "           [12, 13],\n",
       "           [14, 15],\n",
       "           [16, 17],\n",
       "           [18, 19]],\n",
       "  \n",
       "          [[20, 21],\n",
       "           [22, 23],\n",
       "           [24, 25],\n",
       "           [26, 27],\n",
       "           [28, 29]]]),\n",
       "  tensor([[[ 1,  2],\n",
       "           [ 3,  4],\n",
       "           [ 5,  6],\n",
       "           [ 7,  8],\n",
       "           [ 9, 10]],\n",
       "  \n",
       "          [[11, 12],\n",
       "           [13, 14],\n",
       "           [15, 16],\n",
       "           [17, 18],\n",
       "           [19, 20]],\n",
       "  \n",
       "          [[21, 22],\n",
       "           [23, 24],\n",
       "           [25, 26],\n",
       "           [27, 28],\n",
       "           [29, 30]]]),\n",
       "  tensor([[[ 2,  3],\n",
       "           [ 4,  5],\n",
       "           [ 6,  7],\n",
       "           [ 8,  9],\n",
       "           [10, 11]],\n",
       "  \n",
       "          [[12, 13],\n",
       "           [14, 15],\n",
       "           [16, 17],\n",
       "           [18, 19],\n",
       "           [20, 21]],\n",
       "  \n",
       "          [[22, 23],\n",
       "           [24, 25],\n",
       "           [26, 27],\n",
       "           [28, 29],\n",
       "           [30, 31]]])],\n",
       " [tensor([[[ 4,  5],\n",
       "           [ 6,  7],\n",
       "           [ 8,  9],\n",
       "           [10, 11],\n",
       "           [12, 13]],\n",
       "  \n",
       "          [[14, 15],\n",
       "           [16, 17],\n",
       "           [18, 19],\n",
       "           [20, 21],\n",
       "           [22, 23]],\n",
       "  \n",
       "          [[24, 25],\n",
       "           [26, 27],\n",
       "           [28, 29],\n",
       "           [30, 31],\n",
       "           [32, 33]]]),\n",
       "  tensor([[[ 5,  6],\n",
       "           [ 7,  8],\n",
       "           [ 9, 10],\n",
       "           [11, 12],\n",
       "           [13, 14]],\n",
       "  \n",
       "          [[15, 16],\n",
       "           [17, 18],\n",
       "           [19, 20],\n",
       "           [21, 22],\n",
       "           [23, 24]],\n",
       "  \n",
       "          [[25, 26],\n",
       "           [27, 28],\n",
       "           [29, 30],\n",
       "           [31, 32],\n",
       "           [33, 34]]]),\n",
       "  tensor([[[ 6,  7],\n",
       "           [ 8,  9],\n",
       "           [10, 11],\n",
       "           [12, 13],\n",
       "           [14, 15]],\n",
       "  \n",
       "          [[16, 17],\n",
       "           [18, 19],\n",
       "           [20, 21],\n",
       "           [22, 23],\n",
       "           [24, 25]],\n",
       "  \n",
       "          [[26, 27],\n",
       "           [28, 29],\n",
       "           [30, 31],\n",
       "           [32, 33],\n",
       "           [34, 35]]])],\n",
       " [tensor([[[ 8,  9],\n",
       "           [10, 11],\n",
       "           [12, 13],\n",
       "           [14, 15],\n",
       "           [16, 17]],\n",
       "  \n",
       "          [[18, 19],\n",
       "           [20, 21],\n",
       "           [22, 23],\n",
       "           [24, 25],\n",
       "           [26, 27]],\n",
       "  \n",
       "          [[28, 29],\n",
       "           [30, 31],\n",
       "           [32, 33],\n",
       "           [34, 35],\n",
       "           [36, 37]]]),\n",
       "  tensor([[[ 9, 10],\n",
       "           [11, 12],\n",
       "           [13, 14],\n",
       "           [15, 16],\n",
       "           [17, 18]],\n",
       "  \n",
       "          [[19, 20],\n",
       "           [21, 22],\n",
       "           [23, 24],\n",
       "           [25, 26],\n",
       "           [27, 28]],\n",
       "  \n",
       "          [[29, 30],\n",
       "           [31, 32],\n",
       "           [33, 34],\n",
       "           [35, 36],\n",
       "           [37, 38]]]),\n",
       "  tensor([[[10, 11],\n",
       "           [12, 13],\n",
       "           [14, 15],\n",
       "           [16, 17],\n",
       "           [18, 19]],\n",
       "  \n",
       "          [[20, 21],\n",
       "           [22, 23],\n",
       "           [24, 25],\n",
       "           [26, 27],\n",
       "           [28, 29]],\n",
       "  \n",
       "          [[30, 31],\n",
       "           [32, 33],\n",
       "           [34, 35],\n",
       "           [36, 37],\n",
       "           [38, 39]]])],\n",
       " [tensor([[[12, 13],\n",
       "           [14, 15],\n",
       "           [16, 17],\n",
       "           [18, 19],\n",
       "           [20, 21]],\n",
       "  \n",
       "          [[22, 23],\n",
       "           [24, 25],\n",
       "           [26, 27],\n",
       "           [28, 29],\n",
       "           [30, 31]],\n",
       "  \n",
       "          [[32, 33],\n",
       "           [34, 35],\n",
       "           [36, 37],\n",
       "           [38, 39],\n",
       "           [40, 41]]]),\n",
       "  tensor([[[13, 14],\n",
       "           [15, 16],\n",
       "           [17, 18],\n",
       "           [19, 20],\n",
       "           [21, 22]],\n",
       "  \n",
       "          [[23, 24],\n",
       "           [25, 26],\n",
       "           [27, 28],\n",
       "           [29, 30],\n",
       "           [31, 32]],\n",
       "  \n",
       "          [[33, 34],\n",
       "           [35, 36],\n",
       "           [37, 38],\n",
       "           [39, 40],\n",
       "           [41, 42]]]),\n",
       "  tensor([[[14, 15],\n",
       "           [16, 17],\n",
       "           [18, 19],\n",
       "           [20, 21],\n",
       "           [22, 23]],\n",
       "  \n",
       "          [[24, 25],\n",
       "           [26, 27],\n",
       "           [28, 29],\n",
       "           [30, 31],\n",
       "           [32, 33]],\n",
       "  \n",
       "          [[34, 35],\n",
       "           [36, 37],\n",
       "           [38, 39],\n",
       "           [40, 41],\n",
       "           [42, 43]]])]]"
      ]
     },
     "execution_count": 153,
     "metadata": {},
     "output_type": "execute_result"
    }
   ],
   "source": [
    "features"
   ]
  },
  {
   "cell_type": "code",
   "execution_count": 147,
   "id": "20282108-e633-4bd2-9fdf-cf5da64b5af6",
   "metadata": {},
   "outputs": [],
   "source": [
    "features = [[(torch.arange(3*5*2) + (i + 4*j)).view(3, 5, 2) for i in range(3)] for j in range(4)]"
   ]
  },
  {
   "cell_type": "code",
   "execution_count": 148,
   "id": "14b60725-c0ce-4b38-8372-7b40630942dd",
   "metadata": {},
   "outputs": [],
   "source": [
    "blsd = [torch.stack(x, 1) for x in features] # Batch, Layers, Seq, Dim\n",
    "bclsd = torch.stack(blsd, 1) # Batch, Candidates, Layers, Seq, Dim"
   ]
  },
  {
   "cell_type": "code",
   "execution_count": 149,
   "id": "ea79ddde-5860-49b5-b918-7c6e30c16a8e",
   "metadata": {},
   "outputs": [],
   "source": [
    "bidx = idx.reshape(3, 2, 1, 1, 1).expand(-1, -1, 3, 5, 2)"
   ]
  },
  {
   "cell_type": "code",
   "execution_count": 166,
   "id": "fb9e6c6c-6870-4971-bca5-82addad062ba",
   "metadata": {},
   "outputs": [
    {
     "data": {
      "text/plain": [
       "(tensor([[0, 1],\n",
       "         [3, 1],\n",
       "         [0, 2]]),\n",
       " torch.Size([3, 2]))"
      ]
     },
     "execution_count": 166,
     "metadata": {},
     "output_type": "execute_result"
    }
   ],
   "source": [
    "idx, idx.shape"
   ]
  },
  {
   "cell_type": "code",
   "execution_count": 163,
   "id": "2e91a068-6497-4f91-97ca-b9c9767d0fb4",
   "metadata": {},
   "outputs": [],
   "source": [
    "new_features = torch.gather(bclsd, 1, bidx) # Batch, Candidates, Layers, Seq, Dim\n",
    "new_features = [[new_features[:, j, i] for i in range(3)] for j in range(2)]\n",
    "# new_features"
   ]
  },
  {
   "cell_type": "code",
   "execution_count": null,
   "id": "3060dd60-8715-4f80-ab9f-1988a1b2a0cc",
   "metadata": {},
   "outputs": [],
   "source": []
  },
  {
   "cell_type": "code",
   "execution_count": 169,
   "id": "7abaaa12-053e-4812-98a4-e949b71ad5ba",
   "metadata": {},
   "outputs": [],
   "source": [
    "pos_encoded = [torch.arange(3*5*2).reshape(3, 5, 2) + 3*5*2*i for i in range(4)]"
   ]
  },
  {
   "cell_type": "code",
   "execution_count": 176,
   "id": "0415d2cc-044f-45db-b6d7-cbaff8e718a0",
   "metadata": {},
   "outputs": [
    {
     "data": {
      "text/plain": [
       "[tensor([[[ 0,  1],\n",
       "          [ 2,  3],\n",
       "          [ 4,  5],\n",
       "          [ 6,  7],\n",
       "          [ 8,  9]],\n",
       " \n",
       "         [[10, 11],\n",
       "          [12, 13],\n",
       "          [14, 15],\n",
       "          [16, 17],\n",
       "          [18, 19]],\n",
       " \n",
       "         [[20, 21],\n",
       "          [22, 23],\n",
       "          [24, 25],\n",
       "          [26, 27],\n",
       "          [28, 29]]]),\n",
       " tensor([[[30, 31],\n",
       "          [32, 33],\n",
       "          [34, 35],\n",
       "          [36, 37],\n",
       "          [38, 39]],\n",
       " \n",
       "         [[40, 41],\n",
       "          [42, 43],\n",
       "          [44, 45],\n",
       "          [46, 47],\n",
       "          [48, 49]],\n",
       " \n",
       "         [[50, 51],\n",
       "          [52, 53],\n",
       "          [54, 55],\n",
       "          [56, 57],\n",
       "          [58, 59]]]),\n",
       " tensor([[[60, 61],\n",
       "          [62, 63],\n",
       "          [64, 65],\n",
       "          [66, 67],\n",
       "          [68, 69]],\n",
       " \n",
       "         [[70, 71],\n",
       "          [72, 73],\n",
       "          [74, 75],\n",
       "          [76, 77],\n",
       "          [78, 79]],\n",
       " \n",
       "         [[80, 81],\n",
       "          [82, 83],\n",
       "          [84, 85],\n",
       "          [86, 87],\n",
       "          [88, 89]]]),\n",
       " tensor([[[ 90,  91],\n",
       "          [ 92,  93],\n",
       "          [ 94,  95],\n",
       "          [ 96,  97],\n",
       "          [ 98,  99]],\n",
       " \n",
       "         [[100, 101],\n",
       "          [102, 103],\n",
       "          [104, 105],\n",
       "          [106, 107],\n",
       "          [108, 109]],\n",
       " \n",
       "         [[110, 111],\n",
       "          [112, 113],\n",
       "          [114, 115],\n",
       "          [116, 117],\n",
       "          [118, 119]]])]"
      ]
     },
     "execution_count": 176,
     "metadata": {},
     "output_type": "execute_result"
    }
   ],
   "source": [
    "pos_encoded"
   ]
  },
  {
   "cell_type": "code",
   "execution_count": 170,
   "id": "cb38f753-4aa3-4c4e-aafe-8f93a4bbcc75",
   "metadata": {},
   "outputs": [
    {
     "data": {
      "text/plain": [
       "torch.Size([3, 4, 5, 2])"
      ]
     },
     "execution_count": 170,
     "metadata": {},
     "output_type": "execute_result"
    }
   ],
   "source": [
    "cat_encoded = torch.stack(pos_encoded, dim=1)\n",
    "cat_encoded.shape"
   ]
  },
  {
   "cell_type": "code",
   "execution_count": 171,
   "id": "dd3ef180-59b6-4bae-965e-4a71909552c1",
   "metadata": {},
   "outputs": [],
   "source": [
    "bidx = idx.reshape(3, 2, 1, 1).expand(-1, -1, 5, 2)"
   ]
  },
  {
   "cell_type": "code",
   "execution_count": 175,
   "id": "58fda3bc-34ee-4462-9894-95b48603bf87",
   "metadata": {},
   "outputs": [
    {
     "data": {
      "text/plain": [
       "[tensor([[[  0,   1],\n",
       "          [  2,   3],\n",
       "          [  4,   5],\n",
       "          [  6,   7],\n",
       "          [  8,   9]],\n",
       " \n",
       "         [[100, 101],\n",
       "          [102, 103],\n",
       "          [104, 105],\n",
       "          [106, 107],\n",
       "          [108, 109]],\n",
       " \n",
       "         [[ 20,  21],\n",
       "          [ 22,  23],\n",
       "          [ 24,  25],\n",
       "          [ 26,  27],\n",
       "          [ 28,  29]]]),\n",
       " tensor([[[30, 31],\n",
       "          [32, 33],\n",
       "          [34, 35],\n",
       "          [36, 37],\n",
       "          [38, 39]],\n",
       " \n",
       "         [[40, 41],\n",
       "          [42, 43],\n",
       "          [44, 45],\n",
       "          [46, 47],\n",
       "          [48, 49]],\n",
       " \n",
       "         [[80, 81],\n",
       "          [82, 83],\n",
       "          [84, 85],\n",
       "          [86, 87],\n",
       "          [88, 89]]])]"
      ]
     },
     "execution_count": 175,
     "metadata": {},
     "output_type": "execute_result"
    }
   ],
   "source": [
    "new_encoded = torch.gather(cat_encoded, 1, bidx)\n",
    "[new_encoded[:, i] for i in range(2)]"
   ]
  },
  {
   "cell_type": "code",
   "execution_count": null,
   "id": "3ee78060-f0bf-4bc7-89da-4f0a34cf7d3c",
   "metadata": {},
   "outputs": [],
   "source": []
  }
 ],
 "metadata": {
  "kernelspec": {
   "display_name": "Python 3",
   "language": "python",
   "name": "python3"
  },
  "language_info": {
   "codemirror_mode": {
    "name": "ipython",
    "version": 3
   },
   "file_extension": ".py",
   "mimetype": "text/x-python",
   "name": "python",
   "nbconvert_exporter": "python",
   "pygments_lexer": "ipython3",
   "version": "3.7.7"
  }
 },
 "nbformat": 4,
 "nbformat_minor": 5
}
