{
 "cells": [
  {
   "cell_type": "code",
   "execution_count": 1,
   "id": "98d1905d-68af-452c-b306-0f3697197c5d",
   "metadata": {},
   "outputs": [
    {
     "name": "stdout",
     "output_type": "stream",
     "text": [
      "/opt/ml/team/gj/code\n"
     ]
    }
   ],
   "source": [
    "%cd ~/team/gj/code"
   ]
  },
  {
   "cell_type": "markdown",
   "id": "4d08edbb-7620-4db2-b542-7012c8ca7bb2",
   "metadata": {},
   "source": [
    "# Distribution"
   ]
  },
  {
   "cell_type": "code",
   "execution_count": 2,
   "id": "70d39bd9-2771-49df-8f62-5f289b4f933e",
   "metadata": {},
   "outputs": [],
   "source": [
    "import pandas as pd\n",
    "import matplotlib.pyplot as plt\n",
    "import seaborn as sns\n",
    "from PIL import Image\n",
    "\n",
    "import pickle\n",
    "import yaml\n",
    "\n",
    "from dataset import split_gt, load_sources, load_levels\n",
    "\n",
    "plt.style.use('dark_background')"
   ]
  },
  {
   "cell_type": "code",
   "execution_count": 3,
   "id": "2fa3f0eb-f5c6-4203-8fc4-487daba3a973",
   "metadata": {},
   "outputs": [],
   "source": [
    "options = yaml.safe_load(open('/opt/ml/team/gj/code/configs/Default.yaml', 'r'))\n",
    "sources = load_sources(options['data']['source_paths'])\n",
    "levels = load_sources(options['data']['level_paths'])"
   ]
  },
  {
   "cell_type": "code",
   "execution_count": 4,
   "id": "b2beb8a3-f828-40d8-a5f5-05e082ea47b9",
   "metadata": {},
   "outputs": [],
   "source": [
    "source_to_name = {\n",
    "    0: '출력물',\n",
    "    1: '프린트',\n",
    "}\n",
    "\n",
    "level_to_name = {\n",
    "    1: '초등',\n",
    "    2: '중등',\n",
    "    3: '고등',\n",
    "    4: '대학',\n",
    "    5: '대학 이상',\n",
    "}"
   ]
  },
  {
   "cell_type": "code",
   "execution_count": 5,
   "id": "fda9dfee-b4f9-45db-a794-10e54d713ca4",
   "metadata": {},
   "outputs": [
    {
     "name": "stdout",
     "output_type": "stream",
     "text": [
      "log\t\t\t  satrn_curr\t\t       satrn_new_baseline_test\n",
      "satrn\t\t\t  satrn_curr_diff_lrs\t       satrn_reverse\n",
      "satrn_adaptive_2d\t  satrn_curr_longer_test       satrn_stn\n",
      "satrn_adaptive_locality   satrn_extra_pb\t       satrn_stn_test\n",
      "satrn_basic\t\t  satrn_flex_local_aware_long  satrn_test\n",
      "satrn_criterion\t\t  satrn_flexible_size\t       satrn_tf_scheduler\n",
      "satrn_criterion_test\t  satrn_locality_aware\t       satrn_tube\n",
      "satrn_cur_best_long\t  satrn_model_save\t       satrn_tube_enc\n",
      "satrn_cur_best_long_test  satrn_new_baseline\t       satrn_tube_test\n"
     ]
    }
   ],
   "source": [
    "!ls /opt/ml/input/data/saving_model"
   ]
  },
  {
   "cell_type": "code",
   "execution_count": 6,
   "id": "5339e1e8-cb06-4425-bae1-0acd2059a544",
   "metadata": {},
   "outputs": [],
   "source": [
    "import torch\n",
    "from checkpoint import load_checkpoint\n",
    "from flags import Flags\n",
    "import random\n",
    "from torchvision import transforms\n",
    "import utils\n",
    "from utils import get_network\n",
    "from dataset import LoadDataset, SizeBatchSampler, collate_batch, PAD\n",
    "from torch.utils.data import DataLoader\n",
    "from tqdm.auto import tqdm\n",
    "from train_method import id_to_string\n",
    "\n",
    "from torch.cuda.amp import (\n",
    "    GradScaler, \n",
    "    autocast,\n",
    ")"
   ]
  },
  {
   "cell_type": "code",
   "execution_count": 7,
   "id": "67db75bc-d44b-4039-bef0-e12d4a0c9008",
   "metadata": {},
   "outputs": [],
   "source": [
    "checkpoint_name = \"/opt/ml/input/data/saving_model/satrn_test/checkpoints/best.pth\""
   ]
  },
  {
   "cell_type": "code",
   "execution_count": 8,
   "id": "e50d5216-4017-4633-a094-137bf65f39e7",
   "metadata": {
    "scrolled": true,
    "tags": []
   },
   "outputs": [],
   "source": [
    "is_cuda = torch.cuda.is_available()\n",
    "checkpoint = load_checkpoint(checkpoint_name, cuda=is_cuda)\n",
    "checkpoint['configs']['SATRN']['flexible_stn']['train_stn_only'] = False\n",
    "options, _ = Flags(checkpoint[\"configs\"]).get()\n",
    "torch.manual_seed(options.seed)\n",
    "random.seed(options.seed)\n",
    "torch.backends.cudnn.deterministic = True\n",
    "torch.backends.cudnn.benchmark = False"
   ]
  },
  {
   "cell_type": "code",
   "execution_count": 9,
   "id": "47dafe0a-f4f0-4b73-b5e1-dcbcba735e00",
   "metadata": {},
   "outputs": [
    {
     "name": "stdout",
     "output_type": "stream",
     "text": [
      "From /opt/ml/input/data/train_dataset/test_gt_s:0_l:1.txt\n",
      "Val +:\t750\n",
      "From /opt/ml/input/data/train_dataset/test_gt_s:0_l:2.txt\n",
      "Val +:\t6458\n",
      "From /opt/ml/input/data/train_dataset/test_gt_s:0_l:3.txt\n",
      "Val +:\t1847\n",
      "From /opt/ml/input/data/train_dataset/test_gt_s:0_l:4.txt\n",
      "Val +:\t831\n",
      "From /opt/ml/input/data/train_dataset/test_gt_s:0_l:5.txt\n",
      "Val +:\t114\n",
      "From /opt/ml/input/data/train_dataset/test_gt_s:1_l:1.txt\n",
      "Val +:\t1951\n",
      "From /opt/ml/input/data/train_dataset/test_gt_s:1_l:2.txt\n",
      "Val +:\t2248\n",
      "From /opt/ml/input/data/train_dataset/test_gt_s:1_l:3.txt\n",
      "Val +:\t4910\n",
      "From /opt/ml/input/data/train_dataset/test_gt_s:1_l:4.txt\n",
      "Val +:\t891\n"
     ]
    },
    {
     "data": {
      "text/plain": [
       "20000"
      ]
     },
     "execution_count": 9,
     "metadata": {},
     "output_type": "execute_result"
    }
   ],
   "source": [
    "def get_dataset(paths):\n",
    "    data = []\n",
    "    for i, path in enumerate(paths):\n",
    "        data_from_file = split_gt(path)\n",
    "        data += data_from_file\n",
    "        print(f'From {path}')\n",
    "        print(f'Val +:\\t{len(data_from_file)}')\n",
    "    return data\n",
    "\n",
    "dataset = get_dataset(options.data.test)\n",
    "len(dataset)"
   ]
  },
  {
   "cell_type": "code",
   "execution_count": 11,
   "id": "d63dac0c-ad4a-431a-bf22-dadf171c24f5",
   "metadata": {},
   "outputs": [
    {
     "name": "stdout",
     "output_type": "stream",
     "text": [
      "--------------------------------\n",
      "Running SATRN on device cuda\n",
      "\n",
      "[+] Checkpoint\n",
      " Resuming from epoch : 60\n",
      "\n"
     ]
    },
    {
     "data": {
      "application/vnd.jupyter.widget-view+json": {
       "model_id": "40a61c7b89fd45a28207514df1fceb59",
       "version_major": 2,
       "version_minor": 0
      },
      "text/plain": [
       "  0%|          | 0/1 [00:00<?, ?it/s]"
      ]
     },
     "metadata": {},
     "output_type": "display_data"
    }
   ],
   "source": [
    "hardware = \"cuda\" if is_cuda else \"cpu\"\n",
    "device = torch.device(hardware)\n",
    "print(\"--------------------------------\")\n",
    "print(\"Running {} on device {}\\n\".format(options.network, device))\n",
    "\n",
    "model_checkpoint = checkpoint[\"model\"]\n",
    "if model_checkpoint:\n",
    "    print(\n",
    "        \"[+] Checkpoint\\n\",\n",
    "        \"Resuming from epoch : {}\\n\".format(checkpoint[\"epoch\"]),\n",
    "    )\n",
    "\n",
    "\n",
    "if options.data.flexible_image_size:\n",
    "    transformed = transforms.Compose(\n",
    "        [\n",
    "            transforms.ToTensor(),\n",
    "        ]\n",
    "    )\n",
    "else:\n",
    "    transformed = transforms.Compose(\n",
    "        [\n",
    "            transforms.Resize((options.input_size.height, options.input_size.width)),\n",
    "            transforms.ToTensor(),\n",
    "        ]\n",
    "    )\n",
    "\n",
    "# random.shuffle(wrong_data)\n",
    "# random.shuffle(correct_data)\n",
    "# data = wrong_data[:1]\n",
    "# data = correct_data[:1]\n",
    "data = [\n",
    "    ['/opt/ml/input/data/train_dataset/images/train_44558.jpg', 'a _ { \\\\theta } = r \\\\ddot \\\\theta + 2 \\\\dot r \\\\dot \\\\theta = \\\\left( 0 . 7 5 m + 0 . 5 m \\\\right) \\\\times \\\\ddot \\\\theta + 2 \\\\times 0 . 2 m / s']\n",
    "]\n",
    "valid_dataset = LoadDataset(\n",
    "    data, options.data.token_paths, sources=sources,\n",
    "    levels=levels, crop=options.data.crop,\n",
    "    transform=transformed, rgb=options.data.rgb,\n",
    "    max_resolution=options.input_size.height * options.input_size.width,\n",
    "    is_flexible=options.data.flexible_image_size,\n",
    "    is_reverse=options.data.is_reverse,\n",
    ")\n",
    "\n",
    "valid_sampler = SizeBatchSampler(valid_dataset, 36, is_random=True)\n",
    "valid_data_loader = DataLoader(\n",
    "    valid_dataset,\n",
    "    batch_sampler=valid_sampler,\n",
    "    num_workers=4,\n",
    "    collate_fn=collate_batch,\n",
    ")"
   ]
  },
  {
   "cell_type": "code",
   "execution_count": 12,
   "id": "fcc7ce10-c597-488e-a230-1511d0ce6847",
   "metadata": {},
   "outputs": [
    {
     "ename": "RuntimeError",
     "evalue": "Error(s) in loading state_dict for SATRN:\n\tsize mismatch for stn.middle.6.weight: copying a param with shape torch.Size([4, 256]) from checkpoint, the shape in current model is torch.Size([8, 256]).\n\tsize mismatch for stn.middle.6.bias: copying a param with shape torch.Size([4]) from checkpoint, the shape in current model is torch.Size([8]).",
     "output_type": "error",
     "traceback": [
      "\u001b[0;31m---------------------------------------------------------------------------\u001b[0m",
      "\u001b[0;31mRuntimeError\u001b[0m                              Traceback (most recent call last)",
      "\u001b[0;32m<ipython-input-12-1ae6894787ac>\u001b[0m in \u001b[0;36m<module>\u001b[0;34m\u001b[0m\n\u001b[1;32m      4\u001b[0m     \u001b[0mmodel_checkpoint\u001b[0m\u001b[0;34m,\u001b[0m\u001b[0;34m\u001b[0m\u001b[0;34m\u001b[0m\u001b[0m\n\u001b[1;32m      5\u001b[0m     \u001b[0mdevice\u001b[0m\u001b[0;34m,\u001b[0m\u001b[0;34m\u001b[0m\u001b[0;34m\u001b[0m\u001b[0m\n\u001b[0;32m----> 6\u001b[0;31m     \u001b[0mvalid_dataset\u001b[0m\u001b[0;34m,\u001b[0m\u001b[0;34m\u001b[0m\u001b[0;34m\u001b[0m\u001b[0m\n\u001b[0m\u001b[1;32m      7\u001b[0m )\n\u001b[1;32m      8\u001b[0m \u001b[0mmodel\u001b[0m\u001b[0;34m.\u001b[0m\u001b[0meval\u001b[0m\u001b[0;34m(\u001b[0m\u001b[0;34m)\u001b[0m\u001b[0;34m\u001b[0m\u001b[0;34m\u001b[0m\u001b[0m\n",
      "\u001b[0;32m~/team/gj/code/utils.py\u001b[0m in \u001b[0;36mget_network\u001b[0;34m(model_type, FLAGS, model_checkpoint, device, train_dataset)\u001b[0m\n\u001b[1;32m     25\u001b[0m     \u001b[0;32melif\u001b[0m \u001b[0mmodel_type\u001b[0m \u001b[0;34m==\u001b[0m \u001b[0;34m\"SATRN\"\u001b[0m\u001b[0;34m:\u001b[0m\u001b[0;34m\u001b[0m\u001b[0;34m\u001b[0m\u001b[0m\n\u001b[1;32m     26\u001b[0m         model = SATRN(FLAGS, train_dataset, checkpoint=model_checkpoint,\n\u001b[0;32m---> 27\u001b[0;31m          device=device).to(device)\n\u001b[0m\u001b[1;32m     28\u001b[0m \u001b[0;34m\u001b[0m\u001b[0m\n\u001b[1;32m     29\u001b[0m         \u001b[0;32mif\u001b[0m \u001b[0mFLAGS\u001b[0m\u001b[0;34m.\u001b[0m\u001b[0mSATRN\u001b[0m\u001b[0;34m.\u001b[0m\u001b[0mflexible_stn\u001b[0m\u001b[0;34m.\u001b[0m\u001b[0mtrain_stn_only\u001b[0m\u001b[0;34m:\u001b[0m\u001b[0;34m\u001b[0m\u001b[0;34m\u001b[0m\u001b[0m\n",
      "\u001b[0;32m~/team/gj/code/networks/SATRN.py\u001b[0m in \u001b[0;36m__init__\u001b[0;34m(self, FLAGS, train_dataset, device, checkpoint)\u001b[0m\n\u001b[1;32m    948\u001b[0m \u001b[0;34m\u001b[0m\u001b[0m\n\u001b[1;32m    949\u001b[0m         \u001b[0;32mif\u001b[0m \u001b[0mcheckpoint\u001b[0m\u001b[0;34m:\u001b[0m\u001b[0;34m\u001b[0m\u001b[0;34m\u001b[0m\u001b[0m\n\u001b[0;32m--> 950\u001b[0;31m             \u001b[0mself\u001b[0m\u001b[0;34m.\u001b[0m\u001b[0mload_state_dict\u001b[0m\u001b[0;34m(\u001b[0m\u001b[0mcheckpoint\u001b[0m\u001b[0;34m)\u001b[0m\u001b[0;34m\u001b[0m\u001b[0;34m\u001b[0m\u001b[0m\n\u001b[0m\u001b[1;32m    951\u001b[0m \u001b[0;34m\u001b[0m\u001b[0m\n\u001b[1;32m    952\u001b[0m         \u001b[0;32mif\u001b[0m \u001b[0mFLAGS\u001b[0m\u001b[0;34m.\u001b[0m\u001b[0mSATRN\u001b[0m\u001b[0;34m.\u001b[0m\u001b[0mflexible_stn\u001b[0m\u001b[0;34m.\u001b[0m\u001b[0muse\u001b[0m \u001b[0;32mand\u001b[0m\u001b[0;31m \u001b[0m\u001b[0;31m\\\u001b[0m\u001b[0;34m\u001b[0m\u001b[0;34m\u001b[0m\u001b[0m\n",
      "\u001b[0;32m/opt/conda/lib/python3.7/site-packages/torch/nn/modules/module.py\u001b[0m in \u001b[0;36mload_state_dict\u001b[0;34m(self, state_dict, strict)\u001b[0m\n\u001b[1;32m   1050\u001b[0m         \u001b[0;32mif\u001b[0m \u001b[0mlen\u001b[0m\u001b[0;34m(\u001b[0m\u001b[0merror_msgs\u001b[0m\u001b[0;34m)\u001b[0m \u001b[0;34m>\u001b[0m \u001b[0;36m0\u001b[0m\u001b[0;34m:\u001b[0m\u001b[0;34m\u001b[0m\u001b[0;34m\u001b[0m\u001b[0m\n\u001b[1;32m   1051\u001b[0m             raise RuntimeError('Error(s) in loading state_dict for {}:\\n\\t{}'.format(\n\u001b[0;32m-> 1052\u001b[0;31m                                self.__class__.__name__, \"\\n\\t\".join(error_msgs)))\n\u001b[0m\u001b[1;32m   1053\u001b[0m         \u001b[0;32mreturn\u001b[0m \u001b[0m_IncompatibleKeys\u001b[0m\u001b[0;34m(\u001b[0m\u001b[0mmissing_keys\u001b[0m\u001b[0;34m,\u001b[0m \u001b[0munexpected_keys\u001b[0m\u001b[0;34m)\u001b[0m\u001b[0;34m\u001b[0m\u001b[0;34m\u001b[0m\u001b[0m\n\u001b[1;32m   1054\u001b[0m \u001b[0;34m\u001b[0m\u001b[0m\n",
      "\u001b[0;31mRuntimeError\u001b[0m: Error(s) in loading state_dict for SATRN:\n\tsize mismatch for stn.middle.6.weight: copying a param with shape torch.Size([4, 256]) from checkpoint, the shape in current model is torch.Size([8, 256]).\n\tsize mismatch for stn.middle.6.bias: copying a param with shape torch.Size([4]) from checkpoint, the shape in current model is torch.Size([8])."
     ]
    }
   ],
   "source": [
    "model = get_network(\n",
    "    options.network,\n",
    "    options,\n",
    "    model_checkpoint,\n",
    "    device,\n",
    "    valid_dataset,\n",
    ")\n",
    "model.eval()\n",
    "print()"
   ]
  },
  {
   "cell_type": "code",
   "execution_count": 13,
   "id": "f0545d3f-1110-4a70-bded-9b807a825810",
   "metadata": {
    "scrolled": true,
    "tags": []
   },
   "outputs": [
    {
     "data": {
      "application/vnd.jupyter.widget-view+json": {
       "model_id": "",
       "version_major": 2,
       "version_minor": 0
      },
      "text/plain": [
       " (Validation):   0%|          | 0/1 [00:00<?, ?it/s]"
      ]
     },
     "metadata": {},
     "output_type": "display_data"
    },
    {
     "name": "stdout",
     "output_type": "stream",
     "text": [
      "done\n"
     ]
    }
   ],
   "source": [
    "train = False\n",
    "data_loader = valid_data_loader\n",
    "use_amp=options.use_amp and device.type == 'cuda'\n",
    "epoch_text = ''\n",
    "teacher_forcing_ratio = 0\n",
    "\n",
    "correct = []\n",
    "wrong = []\n",
    "    \n",
    "# Disables autograd during validation mode\n",
    "torch.set_grad_enabled(False)\n",
    "\n",
    "model.eval()\n",
    "\n",
    "idx = 0\n",
    "with tqdm(\n",
    "    desc=\"{} ({})\".format(epoch_text, \"Train\" if train else \"Validation\"),\n",
    "    total=len(data_loader.dataset),\n",
    "    dynamic_ncols=True,\n",
    "    leave=False,\n",
    ") as pbar:\n",
    "    for d in data_loader:\n",
    "        input = d[\"image\"].to(device)\n",
    "\n",
    "        # The last batch may not be a full batch\n",
    "        curr_batch_size = len(input)\n",
    "        expected = d[\"truth\"][\"encoded\"].to(device)\n",
    "        levels_expected = d['level'].to(device)\n",
    "        sources_expected = d['source'].to(device)\n",
    "\n",
    "        # Replace -1 with the PAD token\n",
    "        expected[expected == -1] = data_loader.dataset.token_to_id[PAD]\n",
    "\n",
    "        with autocast(enabled=use_amp):\n",
    "            outputs_dict= model(input, expected, train, teacher_forcing_ratio, \n",
    "                        return_attn=True, return_stn=True)\n",
    "            output = outputs_dict['out']\n",
    "            decoded_values = output.transpose(1, 2)\n",
    "            _, sequence = torch.topk(decoded_values, 1, dim=1)\n",
    "            sequence = sequence.squeeze(1)\n",
    "\n",
    "        pbar.update(curr_batch_size)\n",
    "\n",
    "        expected = id_to_string(expected, data_loader, do_eval=1)\n",
    "        sequence = id_to_string(sequence, data_loader, do_eval=1)\n",
    "        break\n",
    "        for i in range(curr_batch_size):\n",
    "            id = int(d['path'][i].split('/')[-1].split('_')[1].split('.')[0])\n",
    "            ex = expected[i]\n",
    "            sq = sequence[i]\n",
    "            same = ex == sq\n",
    "            path = d['path'][i]\n",
    "            image = d['image'][i]\n",
    "            level = d['level'][i]\n",
    "            source = d['source'][i]\n",
    "            ex_len = len(ex.split())\n",
    "            pred_len = len(sq.split())\n",
    "            \n",
    "            cur_item = {\n",
    "                'id': id,\n",
    "                'correct': same,\n",
    "                'expected': ex,\n",
    "                'sequence': sq,\n",
    "                'level': level,\n",
    "                'source': source,\n",
    "                'path': path,\n",
    "                'ex_len': ex_len,\n",
    "                'pred_len': pred_len,\n",
    "            }\n",
    "            \n",
    "            if same:\n",
    "                correct.append(cur_item)\n",
    "            else:\n",
    "                wrong.append(cur_item)\n",
    "    \n",
    "print('done')"
   ]
  },
  {
   "cell_type": "code",
   "execution_count": 21,
   "id": "53aba35d-964b-4327-9671-6020a4e33a25",
   "metadata": {},
   "outputs": [],
   "source": [
    "which = outputs_dict['which']\n",
    "which"
   ]
  },
  {
   "cell_type": "code",
   "execution_count": 25,
   "id": "785d714f-125e-4de3-b511-e161205c48e5",
   "metadata": {},
   "outputs": [
    {
     "data": {
      "text/plain": [
       "torch.Size([1, 1, 512, 32])"
      ]
     },
     "execution_count": 25,
     "metadata": {},
     "output_type": "execute_result"
    }
   ],
   "source": [
    "input.shape"
   ]
  },
  {
   "cell_type": "code",
   "execution_count": 111,
   "id": "3ee7e74d-f544-457a-89cc-d9445866571c",
   "metadata": {},
   "outputs": [
    {
     "data": {
      "text/plain": [
       "<matplotlib.image.AxesImage at 0x7f94397fb6d0>"
      ]
     },
     "execution_count": 111,
     "metadata": {},
     "output_type": "execute_result"
    },
    {
     "data": {
      "image/png": "[encoded data removed]",
      "text/plain": [
       "<Figure size 432x288 with 1 Axes>"
      ]
     },
     "metadata": {},
     "output_type": "display_data"
    }
   ],
   "source": [
    "idx = 0\n",
    "img = outputs_dict['stn'][idx].squeeze(0).cpu().numpy()\n",
    "img = (img* 256).astype(int)\n",
    "plt.imshow(img, cmap='gray')"
   ]
  },
  {
   "cell_type": "code",
   "execution_count": 112,
   "id": "4498fbe6-e6c3-4130-9e8f-3a3ca653fe7c",
   "metadata": {},
   "outputs": [
    {
     "name": "stdout",
     "output_type": "stream",
     "text": [
      "5\n"
     ]
    },
    {
     "data": {
      "text/plain": [
       "<matplotlib.image.AxesImage at 0x7f9439704990>"
      ]
     },
     "execution_count": 112,
     "metadata": {},
     "output_type": "execute_result"
    },
    {
     "data": {
      "image/png": "[encoded data removed]",
      "text/plain": [
       "<Figure size 432x288 with 1 Axes>"
      ]
     },
     "metadata": {},
     "output_type": "display_data"
    }
   ],
   "source": [
    "print(which)\n",
    "img = new_input[idx].squeeze(0).cpu().numpy()\n",
    "img = (img* 256).astype(int)\n",
    "plt.imshow(img, cmap='gray')\n",
    "# idx += 1"
   ]
  },
  {
   "cell_type": "code",
   "execution_count": null,
   "id": "ec2c52d8-1d76-4612-9b60-bc22e17124e2",
   "metadata": {},
   "outputs": [],
   "source": []
  },
  {
   "cell_type": "code",
   "execution_count": null,
   "id": "09a3f0a2-09f8-4dc4-b245-e7cdaea0f902",
   "metadata": {},
   "outputs": [],
   "source": []
  },
  {
   "cell_type": "code",
   "execution_count": 43,
   "id": "95e0b730-7e69-44fd-ab40-54eb429a0e7e",
   "metadata": {},
   "outputs": [],
   "source": [
    "idx = 0"
   ]
  },
  {
   "cell_type": "code",
   "execution_count": 44,
   "id": "011837b2-07a1-45d2-b25c-135dd97eb486",
   "metadata": {},
   "outputs": [
    {
     "data": {
      "text/plain": [
       "<matplotlib.image.AxesImage at 0x7f94d7a56550>"
      ]
     },
     "execution_count": 44,
     "metadata": {},
     "output_type": "execute_result"
    },
    {
     "data": {
      "image/png": "[encoded data removed]",
      "text/plain": [
       "<Figure size 432x288 with 1 Axes>"
      ]
     },
     "metadata": {},
     "output_type": "display_data"
    }
   ],
   "source": [
    "img = input[idx].squeeze(0).cpu().numpy()\n",
    "img = (img* 256).astype(int)\n",
    "plt.imshow(img, cmap='gray')"
   ]
  },
  {
   "cell_type": "code",
   "execution_count": 45,
   "id": "d448b6ab-6ed6-4996-bb32-b05d8b84df62",
   "metadata": {},
   "outputs": [
    {
     "data": {
      "text/plain": [
       "<matplotlib.image.AxesImage at 0x7f9458a119d0>"
      ]
     },
     "execution_count": 45,
     "metadata": {},
     "output_type": "execute_result"
    },
    {
     "data": {
      "image/png": "[encoded data removed]",
      "text/plain": [
       "<Figure size 432x288 with 1 Axes>"
      ]
     },
     "metadata": {},
     "output_type": "display_data"
    }
   ],
   "source": [
    "img = outputs_dict['stn'][idx].squeeze(0)\n",
    "img = (img* 256).astype(int)\n",
    "plt.imshow(img, cmap='gray')\n",
    "idx += 1"
   ]
  },
  {
   "cell_type": "code",
   "execution_count": null,
   "id": "c3672dc2-dd45-44ac-a6ba-f7e2e4347438",
   "metadata": {},
   "outputs": [],
   "source": [
    "# saving = {\n",
    "#     'correct': correct,\n",
    "#     'wrong': wrong,\n",
    "# }\n",
    "\n",
    "# save_root = '/opt/ml/team/gj/notebooks/save'\n",
    "# name = checkpoint_name.split('/')[-3]\n",
    "\n",
    "# save_name = f'{save_root}/{name}'\n",
    "\n",
    "# pickle.dump(saving, open(save_name, 'wb'))"
   ]
  },
  {
   "cell_type": "code",
   "execution_count": null,
   "id": "ae3742d6-e84e-4b7a-b9ec-f100c3385f62",
   "metadata": {},
   "outputs": [],
   "source": [
    "!ls /opt/ml/team/gj/notebooks/save"
   ]
  },
  {
   "cell_type": "code",
   "execution_count": null,
   "id": "0e875b40-b1e8-497a-92ba-ad55a65448aa",
   "metadata": {},
   "outputs": [],
   "source": [
    "normal = pickle.load(open('/opt/ml/team/gj/notebooks/save/satrn_criterion', 'rb'))\n",
    "rev = pickle.load(open('/opt/ml/team/gj/notebooks/save/satrn_reverse', 'rb'))\n",
    "best = pickle.load(open('/opt/ml/team/gj/notebooks/save/satrn_cur_best_long', 'rb'))"
   ]
  },
  {
   "cell_type": "code",
   "execution_count": null,
   "id": "59bc67fa-c839-4f9d-bd47-a0b9e8ab24b2",
   "metadata": {},
   "outputs": [],
   "source": [
    "normal_dict = {x['id']: x for x in normal['wrong'] + normal['correct']}\n",
    "rev_dict = {x['id']: x for x in rev['wrong'] + rev['correct']}\n",
    "best_dict = {x['id']: x for x in best['wrong'] + best['correct']}"
   ]
  },
  {
   "cell_type": "code",
   "execution_count": null,
   "id": "9d2623cf-e557-4d0a-ba1d-7e6f3a817c5f",
   "metadata": {},
   "outputs": [],
   "source": [
    "normal_wrong_ids = set(x['id'] for x in normal['wrong'])\n",
    "rev_wrong_ids = set(x['id'] for x in rev['wrong'])\n",
    "best_wrong_ids = set(x['id'] for x in best['wrong'])"
   ]
  },
  {
   "cell_type": "code",
   "execution_count": null,
   "id": "7e559c96-44bb-4031-8b2e-b84ca4c45fa6",
   "metadata": {},
   "outputs": [],
   "source": []
  },
  {
   "cell_type": "code",
   "execution_count": null,
   "id": "f5199d76-f1e9-40a8-960e-6a719607b070",
   "metadata": {},
   "outputs": [],
   "source": [
    "import torch\n",
    "from checkpoint import load_checkpoint\n",
    "from flags import Flags\n",
    "import random\n",
    "from torchvision import transforms\n",
    "import utils\n",
    "from utils import get_network\n",
    "from dataset import LoadDataset, SizeBatchSampler, collate_batch, PAD\n",
    "from torch.utils.data import DataLoader\n",
    "from tqdm.auto import tqdm\n",
    "from train_method import id_to_string\n",
    "\n",
    "from torch.cuda.amp import (\n",
    "    GradScaler, \n",
    "    autocast,\n",
    ")"
   ]
  },
  {
   "cell_type": "code",
   "execution_count": null,
   "id": "1653f998-104d-4fc2-b0ea-62f90a63a17c",
   "metadata": {},
   "outputs": [],
   "source": [
    "checkpoint = \"/opt/ml/input/data/saving_model/satrn_cur_best_long/checkpoints/best.pth\""
   ]
  },
  {
   "cell_type": "code",
   "execution_count": null,
   "id": "0be1111f-962b-4f8d-a31e-f117566ebd30",
   "metadata": {},
   "outputs": [],
   "source": [
    "is_cuda = torch.cuda.is_available()\n",
    "checkpoint = load_checkpoint(checkpoint, cuda=is_cuda)\n",
    "options, _ = Flags(checkpoint[\"configs\"]).get()\n",
    "torch.manual_seed(options.seed)\n",
    "random.seed(options.seed)\n",
    "torch.backends.cudnn.deterministic = True\n",
    "torch.backends.cudnn.benchmark = False"
   ]
  },
  {
   "cell_type": "code",
   "execution_count": null,
   "id": "a8433410-4a53-4d0c-b148-06b74f4b2c9f",
   "metadata": {},
   "outputs": [],
   "source": [
    "def show_heatmap(data, checkpoint, layer=2):\n",
    "    is_cuda = torch.cuda.is_available()\n",
    "    checkpoint = load_checkpoint(checkpoint, cuda=is_cuda)\n",
    "    options, _ = Flags(checkpoint[\"configs\"]).get()\n",
    "    torch.manual_seed(options.seed)\n",
    "    random.seed(options.seed)\n",
    "    torch.backends.cudnn.deterministic = True\n",
    "    torch.backends.cudnn.benchmark = False\n",
    "    \n",
    "    hardware = \"cuda\" if is_cuda else \"cpu\"\n",
    "    device = torch.device(hardware)\n",
    "    print(\"--------------------------------\")\n",
    "    print(\"Running {} on device {}\\n\".format(options.network, device))\n",
    "\n",
    "    model_checkpoint = checkpoint[\"model\"]\n",
    "    if model_checkpoint:\n",
    "        print(\n",
    "            \"[+] Checkpoint\\n\",\n",
    "            \"Resuming from epoch : {}\\n\".format(checkpoint[\"epoch\"]),\n",
    "        )\n",
    "\n",
    "\n",
    "    if options.data.flexible_image_size:\n",
    "        transformed = transforms.Compose(\n",
    "            [\n",
    "                transforms.ToTensor(),\n",
    "            ]\n",
    "        )\n",
    "    else:\n",
    "        transformed = transforms.Compose(\n",
    "            [\n",
    "                transforms.Resize((options.input_size.height, options.input_size.width)),\n",
    "                transforms.ToTensor(),\n",
    "            ]\n",
    "        )\n",
    "    \n",
    "    valid_dataset = LoadDataset(\n",
    "        data, options.data.token_paths, sources=sources,\n",
    "        levels=levels, crop=options.data.crop,\n",
    "        transform=transformed, rgb=options.data.rgb,\n",
    "        max_resolution=options.input_size.height * options.input_size.width,\n",
    "        is_flexible=options.data.flexible_image_size,\n",
    "        is_reverse=options.data.is_reverse,\n",
    "    )\n",
    "\n",
    "    valid_sampler = SizeBatchSampler(valid_dataset, 16, is_random=True)\n",
    "    valid_data_loader = DataLoader(\n",
    "        valid_dataset,\n",
    "        batch_sampler=valid_sampler,\n",
    "        num_workers=0,\n",
    "        collate_fn=collate_batch,\n",
    "    )\n",
    "    \n",
    "    model = get_network(\n",
    "        options.network,\n",
    "        options,\n",
    "        model_checkpoint,\n",
    "        device,\n",
    "        valid_dataset,\n",
    "    )\n",
    "    model.eval()\n",
    "    \n",
    "    train = False\n",
    "    data_loader = valid_data_loader\n",
    "    use_amp=options.use_amp and device.type == 'cuda'\n",
    "    epoch_text = ''\n",
    "    teacher_forcing_ratio = 0\n",
    "\n",
    "    # Disables autograd during validation mode\n",
    "    torch.set_grad_enabled(False)\n",
    "\n",
    "    model.eval()\n",
    "\n",
    "    with tqdm(\n",
    "        desc=\"{} ({})\".format(epoch_text, \"Train\" if train else \"Validation\"),\n",
    "        total=len(data_loader.dataset),\n",
    "        dynamic_ncols=True,\n",
    "        leave=False,\n",
    "    ) as pbar:\n",
    "        for d in data_loader:\n",
    "            input = d[\"image\"].to(device)\n",
    "\n",
    "            # The last batch may not be a full batch\n",
    "            curr_batch_size = len(input)\n",
    "            expected = d[\"truth\"][\"encoded\"].to(device)\n",
    "            levels_expected = d['level'].to(device)\n",
    "            sources_expected = d['source'].to(device)\n",
    "\n",
    "            # Replace -1 with the PAD token\n",
    "            expected[expected == -1] = data_loader.dataset.token_to_id[PAD]\n",
    "\n",
    "            with autocast(enabled=use_amp):\n",
    "                outputs_dict= model(input, expected, train, teacher_forcing_ratio, return_attn=True)\n",
    "                output = outputs_dict['out']\n",
    "                decoded_values = output.transpose(1, 2)\n",
    "                _, sequence = torch.topk(decoded_values, 1, dim=1)\n",
    "                sequence = sequence.squeeze(1)\n",
    "\n",
    "            pbar.update(curr_batch_size)\n",
    "\n",
    "    expected = id_to_string(expected, data_loader)\n",
    "    sequence = id_to_string(sequence, data_loader)\n",
    "    \n",
    "    cur_idx = 0\n",
    "    o = outputs_dict['out'][cur_idx]\n",
    "    er = outputs_dict['enc_result'][cur_idx]\n",
    "    at1 = outputs_dict['attns_1']\n",
    "    at2 = outputs_dict['attns_2']\n",
    "    im = d['image'][cur_idx]\n",
    "    ex = expected[cur_idx]\n",
    "    se = sequence[cur_idx]\n",
    "\n",
    "    h, w, _ = er.shape\n",
    "    cat1 = [x.squeeze(0).squeeze(1) for x in at1]\n",
    "    cat2 = [x.squeeze(0).squeeze(1).reshape(-1, h, w).sum(0) for x in at2]\n",
    "    \n",
    "    print(f'Expected: {ex[6:]}')\n",
    "    print(f'Sequence: {se}')\n",
    "    \n",
    "    fig = plt.figure(figsize=(20, 20))\n",
    "    plt.imshow(im.squeeze(0), cmap='gray')\n",
    "    plt.show()\n",
    "    \n",
    "    ser = er.sum(-1)\n",
    "    ser = (ser - ser.min()) / (ser.max() - ser.min())\n",
    "    ser = ser.repeat(8, 0).repeat(8, 1)\n",
    "\n",
    "    fig = plt.figure(figsize=(20, 20))\n",
    "    plt.imshow(im.squeeze(0), cmap='gray')\n",
    "    plt.imshow(ser, alpha=0.8, cmap='Reds')\n",
    "    plt.show()\n",
    "    \n",
    "    latex = ['[BOS]'] + se.split()\n",
    "    for idx in range(len(latex)-1):\n",
    "        st = idx\n",
    "\n",
    "        fig = plt.figure(figsize=(20, 10))\n",
    "        plt.imshow(im.squeeze(0), cmap='gray')\n",
    "\n",
    "        j = 3 * st + layer\n",
    "        ser = (er * cat2[j][:, :, None])\n",
    "        ser = ser.sum(-1)\n",
    "        ser = (ser - ser.min()) / (ser.max() - ser.min())\n",
    "        ser = ser.repeat(8, 0).repeat(8, 1)\n",
    "\n",
    "        plt.imshow(ser, alpha=0.8, cmap='Reds')\n",
    "\n",
    "        if idx + 1 < len(latex):\n",
    "            next_c = latex[idx + 1]\n",
    "        else:\n",
    "            next_c = 'FIN'\n",
    "\n",
    "        plt.title(f'{latex[idx]} -> {next_c}', size='x-large')\n",
    "        plt.show()\n",
    "        print()\n",
    "    \n",
    "\n"
   ]
  },
  {
   "cell_type": "code",
   "execution_count": null,
   "id": "006fd05f-e543-4346-a90e-b4fad1d406ef",
   "metadata": {},
   "outputs": [],
   "source": [
    "idx = 0"
   ]
  },
  {
   "cell_type": "code",
   "execution_count": null,
   "id": "e06bc8c6-2006-4763-ab0b-292c5b7fb7be",
   "metadata": {},
   "outputs": [],
   "source": [
    "idx -= 1"
   ]
  },
  {
   "cell_type": "code",
   "execution_count": null,
   "id": "f189ef7d-6c9e-4b41-905a-d64d639c615b",
   "metadata": {
    "tags": []
   },
   "outputs": [],
   "source": [
    "\n",
    "cur_item = best['wrong'][idx]\n",
    "data = [\n",
    "    [cur_item['path'], cur_item['expected']],\n",
    "]\n",
    "layer = 2\n",
    "\n",
    "# checkpoint = \"/opt/ml/input/data/saving_model/satrn_reverse/checkpoints/0010.pth\"\n",
    "# checkpoint = \"/opt/ml/input/data/saving_model/satrn_criterion/checkpoints/best.pth\"\n",
    "checkpoint = \"/opt/ml/input/data/saving_model/satrn_cur_best_long/checkpoints/best.pth\"\n",
    "show_heatmap(data, checkpoint, layer=layer)\n",
    "idx += 1"
   ]
  },
  {
   "cell_type": "code",
   "execution_count": null,
   "id": "8ed67e64-6c30-42d8-9065-91a9943a770b",
   "metadata": {},
   "outputs": [],
   "source": [
    "a = normal['wrong'][0]"
   ]
  },
  {
   "cell_type": "code",
   "execution_count": null,
   "id": "14720839-2784-4a40-bcfa-482bd91d7e43",
   "metadata": {},
   "outputs": [],
   "source": [
    "a['expected']"
   ]
  },
  {
   "cell_type": "code",
   "execution_count": null,
   "id": "262f012b-a668-4ccc-836b-e6e1ceddd1ec",
   "metadata": {},
   "outputs": [],
   "source": [
    "check = []\n",
    "for a in normal['wrong']:\n",
    "    half_len = a['pred_len'] // 2\n",
    "    exp_half = ' '.join(a['expected'].split()[:half_len])\n",
    "    seq_half = ' '.join(a['sequence'].split()[:half_len])\n",
    "\n",
    "    if exp_half == seq_half and a['ex_len'] <= 10:\n",
    "        check.append(a)"
   ]
  },
  {
   "cell_type": "code",
   "execution_count": null,
   "id": "2d5329f9-0eac-4a7d-b817-fe7f884dc731",
   "metadata": {},
   "outputs": [],
   "source": [
    "len(check)"
   ]
  },
  {
   "cell_type": "code",
   "execution_count": null,
   "id": "268e425f-960e-49ad-88e6-8b4e7388a05b",
   "metadata": {},
   "outputs": [],
   "source": [
    "gt_txt = '/opt/ml/input/data/train_dataset/gt.txt'\n",
    "gt_s = split_gt(gt_txt)"
   ]
  },
  {
   "cell_type": "code",
   "execution_count": null,
   "id": "8712c95e-ed61-4d7f-a88e-c52e36518cfb",
   "metadata": {},
   "outputs": [],
   "source": []
  },
  {
   "cell_type": "code",
   "execution_count": null,
   "id": "3943fb01-8129-4fdc-be52-d5019de87977",
   "metadata": {},
   "outputs": [],
   "source": [
    "for found in gt_s:\n",
    "#     if found[1] == '5 \\times 1 1 = 5 5':\n",
    "    if '25502' in found[0]:\n",
    "        print('found')\n",
    "        break\n",
    "found"
   ]
  },
  {
   "cell_type": "code",
   "execution_count": null,
   "id": "4d71e2be-38a6-4442-8eb8-bb514e805a0a",
   "metadata": {},
   "outputs": [],
   "source": [
    "idx = 0"
   ]
  },
  {
   "cell_type": "code",
   "execution_count": null,
   "id": "abf46f4f-4e58-4dba-b243-254cfc562563",
   "metadata": {},
   "outputs": [],
   "source": [
    "idx -= 1"
   ]
  },
  {
   "cell_type": "code",
   "execution_count": null,
   "id": "7aea7eb6-2aff-4c97-8634-5b92b2375589",
   "metadata": {},
   "outputs": [],
   "source": [
    "# idx = 9\n",
    "# data = [\n",
    "#     [check[idx]['path'], check[idx]['expected']],\n",
    "# ]\n",
    "data = [\n",
    "    found\n",
    "]\n",
    "\n",
    "# checkpoint = \"/opt/ml/input/data/saving_model/satrn_reverse/checkpoints/0010.pth\"\n",
    "checkpoint = \"/opt/ml/input/data/saving_model/satrn_criterion/checkpoints/best.pth\"\n",
    "\n",
    "print(idx)\n",
    "show_heatmap(data, checkpoint)\n",
    "idx += 1\n"
   ]
  },
  {
   "cell_type": "code",
   "execution_count": null,
   "id": "5c48e8ad-64d0-4bad-a908-db63a611faf5",
   "metadata": {},
   "outputs": [],
   "source": []
  }
 ],
 "metadata": {
  "kernelspec": {
   "display_name": "Python 3",
   "language": "python",
   "name": "python3"
  },
  "language_info": {
   "codemirror_mode": {
    "name": "ipython",
    "version": 3
   },
   "file_extension": ".py",
   "mimetype": "text/x-python",
   "name": "python",
   "nbconvert_exporter": "python",
   "pygments_lexer": "ipython3",
   "version": "3.7.7"
  }
 },
 "nbformat": 4,
 "nbformat_minor": 5
}
