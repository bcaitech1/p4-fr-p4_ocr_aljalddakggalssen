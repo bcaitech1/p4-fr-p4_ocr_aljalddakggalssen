{
 "cells": [
  {
   "cell_type": "code",
   "execution_count": 42,
   "id": "959054d7-61e1-4ff2-856f-994c11002f2f",
   "metadata": {},
   "outputs": [],
   "source": [
    "import pandas as pd\n",
    "import csv\n",
    "import numpy as np\n",
    "from IPython.display import display, HTML"
   ]
  },
  {
   "cell_type": "code",
   "execution_count": 16,
   "id": "09c5bec1-4887-4837-834a-54f2c30bfdce",
   "metadata": {},
   "outputs": [],
   "source": [
    "source_f = open('source.txt')\n",
    "sources = [line.strip().split('\\t') for line in source_f.readlines()]\n",
    "sources = [(x, int(y)) for x, y in sources]"
   ]
  },
  {
   "cell_type": "code",
   "execution_count": 17,
   "id": "76f2b86a-f26e-4f59-a1a9-dbbf8a66a401",
   "metadata": {},
   "outputs": [],
   "source": [
    "level_f = open('level.txt')\n",
    "levels = [line.strip().split('\\t') for line in level_f.readlines()]\n",
    "levels = [(x, int(y)) for x, y in levels]"
   ]
  },
  {
   "cell_type": "code",
   "execution_count": 18,
   "id": "7bfc9d86-0125-4cce-b272-0d4b77a5b7cc",
   "metadata": {},
   "outputs": [],
   "source": [
    "gt_f = open('gt.txt')\n",
    "gts = [line.strip().split('\\t') for line in gt_f.readlines()]"
   ]
  },
  {
   "cell_type": "code",
   "execution_count": 7,
   "id": "6b2470bb-d5aa-46a0-885a-f810d6513adb",
   "metadata": {},
   "outputs": [
    {
     "data": {
      "text/plain": [
       "[('train_00000.jpg', 1),\n",
       " ('train_00001.jpg', 0),\n",
       " ('train_00002.jpg', 0),\n",
       " ('train_00003.jpg', 1),\n",
       " ('train_00004.jpg', 0)]"
      ]
     },
     "execution_count": 7,
     "metadata": {},
     "output_type": "execute_result"
    }
   ],
   "source": [
    "sources[:5]"
   ]
  },
  {
   "cell_type": "code",
   "execution_count": 8,
   "id": "5b88e322-1421-41d0-b35d-d30593fbd5cb",
   "metadata": {},
   "outputs": [
    {
     "data": {
      "text/plain": [
       "[['train_00000.jpg', '4 \\\\times 7 = 2 8'],\n",
       " ['train_00001.jpg', 'a ^ { x } > q'],\n",
       " ['train_00002.jpg', '8 \\\\times 9'],\n",
       " ['train_00003.jpg',\n",
       "  '\\\\sum _ { k = 1 } ^ { n - 1 } b _ { k } = a _ { n } - a _ { 1 }'],\n",
       " ['train_00004.jpg', 'I = d q / d t']]"
      ]
     },
     "execution_count": 8,
     "metadata": {},
     "output_type": "execute_result"
    }
   ],
   "source": [
    "gts[:5]"
   ]
  },
  {
   "cell_type": "code",
   "execution_count": 19,
   "id": "b90dcc00-c05e-48da-8278-10ca823f917e",
   "metadata": {},
   "outputs": [
    {
     "data": {
      "text/plain": [
       "(100000, 100000, 100000)"
      ]
     },
     "execution_count": 19,
     "metadata": {},
     "output_type": "execute_result"
    }
   ],
   "source": [
    "sources_df = pd.DataFrame(sources, columns=['path', 'source'])\n",
    "gts_df = pd.DataFrame(gts, columns=['path', 'gt'])\n",
    "levels_df = pd.DataFrame(levels, columns=['path', 'level'])\n",
    "\n",
    "len(sources_df), len(gts_df), len(levels_df)"
   ]
  },
  {
   "cell_type": "code",
   "execution_count": 20,
   "id": "5515bf2a-0a82-4ea4-b8ad-1f33732f6165",
   "metadata": {},
   "outputs": [],
   "source": [
    "merged = sources_df.merge(levels_df).merge(gts_df)"
   ]
  },
  {
   "cell_type": "code",
   "execution_count": 21,
   "id": "bf3aff2e-74b2-465d-93a2-d1bcccd16c7a",
   "metadata": {},
   "outputs": [],
   "source": [
    "groups = merged.groupby(['source', 'level'])"
   ]
  },
  {
   "cell_type": "code",
   "execution_count": 14,
   "id": "6e954e68-88a4-4543-8cfc-441628e07a33",
   "metadata": {},
   "outputs": [
    {
     "name": "stdout",
     "output_type": "stream",
     "text": [
      "Empty source: 1 level: 5\n"
     ]
    }
   ],
   "source": [
    "for source in range(2):\n",
    "    for level in range(1, 5 + 1):\n",
    "        try:\n",
    "            g = groups.get_group((source, level))\n",
    "            g.loc[:, ['path', 'gt']].to_csv(\n",
    "                f'gt_s:{source}_l:{level}.txt',\n",
    "                sep='\\t',\n",
    "                header=False,\n",
    "                index=False,\n",
    "                quoting=csv.QUOTE_NONE,\n",
    "            )\n",
    "        except KeyError:\n",
    "            print(f'Empty source: {source} level: {level}')"
   ]
  },
  {
   "cell_type": "code",
   "execution_count": 101,
   "id": "fbf197bf-8547-45d5-8415-cd4f38f18eed",
   "metadata": {},
   "outputs": [
    {
     "data": {
      "text/html": [
       "<div>\n",
       "<style scoped>\n",
       "    .dataframe tbody tr th:only-of-type {\n",
       "        vertical-align: middle;\n",
       "    }\n",
       "\n",
       "    .dataframe tbody tr th {\n",
       "        vertical-align: top;\n",
       "    }\n",
       "\n",
       "    .dataframe thead th {\n",
       "        text-align: right;\n",
       "    }\n",
       "</style>\n",
       "<table border=\"1\" class=\"dataframe\">\n",
       "  <thead>\n",
       "    <tr style=\"text-align: right;\">\n",
       "      <th></th>\n",
       "      <th></th>\n",
       "      <th>path</th>\n",
       "      <th>gt</th>\n",
       "    </tr>\n",
       "    <tr>\n",
       "      <th>source</th>\n",
       "      <th>level</th>\n",
       "      <th></th>\n",
       "      <th></th>\n",
       "    </tr>\n",
       "  </thead>\n",
       "  <tbody>\n",
       "    <tr>\n",
       "      <th rowspan=\"5\" valign=\"top\">0</th>\n",
       "      <th>1</th>\n",
       "      <td>3748</td>\n",
       "      <td>3748</td>\n",
       "    </tr>\n",
       "    <tr>\n",
       "      <th>2</th>\n",
       "      <td>32288</td>\n",
       "      <td>32288</td>\n",
       "    </tr>\n",
       "    <tr>\n",
       "      <th>3</th>\n",
       "      <td>9236</td>\n",
       "      <td>9236</td>\n",
       "    </tr>\n",
       "    <tr>\n",
       "      <th>4</th>\n",
       "      <td>4156</td>\n",
       "      <td>4156</td>\n",
       "    </tr>\n",
       "    <tr>\n",
       "      <th>5</th>\n",
       "      <td>572</td>\n",
       "      <td>572</td>\n",
       "    </tr>\n",
       "    <tr>\n",
       "      <th rowspan=\"4\" valign=\"top\">1</th>\n",
       "      <th>1</th>\n",
       "      <td>9753</td>\n",
       "      <td>9753</td>\n",
       "    </tr>\n",
       "    <tr>\n",
       "      <th>2</th>\n",
       "      <td>11242</td>\n",
       "      <td>11242</td>\n",
       "    </tr>\n",
       "    <tr>\n",
       "      <th>3</th>\n",
       "      <td>24548</td>\n",
       "      <td>24548</td>\n",
       "    </tr>\n",
       "    <tr>\n",
       "      <th>4</th>\n",
       "      <td>4457</td>\n",
       "      <td>4457</td>\n",
       "    </tr>\n",
       "  </tbody>\n",
       "</table>\n",
       "</div>"
      ],
      "text/plain": [
       "               path     gt\n",
       "source level              \n",
       "0      1       3748   3748\n",
       "       2      32288  32288\n",
       "       3       9236   9236\n",
       "       4       4156   4156\n",
       "       5        572    572\n",
       "1      1       9753   9753\n",
       "       2      11242  11242\n",
       "       3      24548  24548\n",
       "       4       4457   4457"
      ]
     },
     "execution_count": 101,
     "metadata": {},
     "output_type": "execute_result"
    }
   ],
   "source": [
    "groups.count()"
   ]
  },
  {
   "cell_type": "code",
   "execution_count": 102,
   "id": "68b35609-aed4-4cef-b1fe-d0c2b9bfc2d9",
   "metadata": {},
   "outputs": [],
   "source": [
    "import torch"
   ]
  },
  {
   "cell_type": "code",
   "execution_count": 103,
   "id": "665bcd10-4e5b-4027-ad95-19ef1d300af6",
   "metadata": {},
   "outputs": [],
   "source": [
    "device = torch.device('cuda')"
   ]
  },
  {
   "cell_type": "code",
   "execution_count": 105,
   "id": "1cced276-f5cc-4783-b9d2-fdfb4a76658f",
   "metadata": {},
   "outputs": [
    {
     "data": {
      "text/plain": [
       "'cuda'"
      ]
     },
     "execution_count": 105,
     "metadata": {},
     "output_type": "execute_result"
    }
   ],
   "source": [
    "device.type"
   ]
  },
  {
   "cell_type": "code",
   "execution_count": 41,
   "id": "6136f99c-54ce-4a5c-9ac1-8392da8463f8",
   "metadata": {},
   "outputs": [
    {
     "name": "stdout",
     "output_type": "stream",
     "text": [
      "Empty source: 1 level: 5\n"
     ]
    }
   ],
   "source": [
    "# for source in range(2):\n",
    "#     for level in range(1, 5 + 1):\n",
    "#         try:\n",
    "#             g = groups.get_group((source, level))\n",
    "#             train_len = round(len(g) * (1-0.2))\n",
    "#             indexes = np.arange(len(g))\n",
    "#             np.random.shuffle(indexes)\n",
    "#             train_idx = indexes[:train_len]\n",
    "#             val_idx = indexes[train_len:]\n",
    "            \n",
    "#             g.iloc[train_idx].loc[:, ['path', 'gt']].to_csv(\n",
    "#                 f'train_gt_s:{source}_l:{level}.txt',\n",
    "#                 sep='\\t',\n",
    "#                 header=False,\n",
    "#                 index=False,\n",
    "#                 quoting=csv.QUOTE_NONE,\n",
    "#             )\n",
    "            \n",
    "#             g.iloc[val_idx].loc[:, ['path', 'gt']].to_csv(\n",
    "#                 f'test_gt_s:{source}_l:{level}.txt',\n",
    "#                 sep='\\t',\n",
    "#                 header=False,\n",
    "#                 index=False,\n",
    "#                 quoting=csv.QUOTE_NONE,\n",
    "#             )\n",
    "\n",
    "#         except KeyError:\n",
    "#             print(f'Empty source: {source} level: {level}')"
   ]
  },
  {
   "cell_type": "code",
   "execution_count": 38,
   "id": "7ba55582-48b8-40e9-a3da-ea0da7d97dc7",
   "metadata": {},
   "outputs": [
    {
     "data": {
      "text/html": [
       "<div>\n",
       "<style scoped>\n",
       "    .dataframe tbody tr th:only-of-type {\n",
       "        vertical-align: middle;\n",
       "    }\n",
       "\n",
       "    .dataframe tbody tr th {\n",
       "        vertical-align: top;\n",
       "    }\n",
       "\n",
       "    .dataframe thead th {\n",
       "        text-align: right;\n",
       "    }\n",
       "</style>\n",
       "<table border=\"1\" class=\"dataframe\">\n",
       "  <thead>\n",
       "    <tr style=\"text-align: right;\">\n",
       "      <th></th>\n",
       "      <th>path</th>\n",
       "      <th>gt</th>\n",
       "    </tr>\n",
       "  </thead>\n",
       "  <tbody>\n",
       "    <tr>\n",
       "      <th>76420</th>\n",
       "      <td>train_76420.jpg</td>\n",
       "      <td>f = \\frac { A / n _ { 1 } } { B / n _ { 2 } } ...</td>\n",
       "    </tr>\n",
       "    <tr>\n",
       "      <th>14331</th>\n",
       "      <td>train_14331.jpg</td>\n",
       "      <td>= \\lim _ { x \\to 0 } \\frac { 3 \\left( \\Delta x...</td>\n",
       "    </tr>\n",
       "    <tr>\n",
       "      <th>67369</th>\n",
       "      <td>train_67369.jpg</td>\n",
       "      <td>R = \\left\\{ z \\leq - z _ { \\frac { d } { 2 } }...</td>\n",
       "    </tr>\n",
       "    <tr>\n",
       "      <th>74534</th>\n",
       "      <td>train_74534.jpg</td>\n",
       "      <td>+ \\lambda \\left( r - r ^ { * } \\right)</td>\n",
       "    </tr>\n",
       "    <tr>\n",
       "      <th>7145</th>\n",
       "      <td>train_07145.jpg</td>\n",
       "      <td>3 3 9 \\times 2</td>\n",
       "    </tr>\n",
       "    <tr>\n",
       "      <th>...</th>\n",
       "      <td>...</td>\n",
       "      <td>...</td>\n",
       "    </tr>\n",
       "    <tr>\n",
       "      <th>93314</th>\n",
       "      <td>train_93314.jpg</td>\n",
       "      <td>f \\left( x \\right) = e ^ { a x }</td>\n",
       "    </tr>\n",
       "    <tr>\n",
       "      <th>76293</th>\n",
       "      <td>train_76293.jpg</td>\n",
       "      <td>+ \\sum _ { t = 2 } ^ { n } \\delta t \\left( p ^...</td>\n",
       "    </tr>\n",
       "    <tr>\n",
       "      <th>42844</th>\n",
       "      <td>train_42844.jpg</td>\n",
       "      <td>V \\subset U _ { k = 1 } ^ { \\infty } I _ { k }</td>\n",
       "    </tr>\n",
       "    <tr>\n",
       "      <th>73151</th>\n",
       "      <td>train_73151.jpg</td>\n",
       "      <td>\\max _ { i = 1 } ^ { n } \\left| x _ { i } \\rig...</td>\n",
       "    </tr>\n",
       "    <tr>\n",
       "      <th>14667</th>\n",
       "      <td>train_14667.jpg</td>\n",
       "      <td>z \\in G \\left( x \\right)</td>\n",
       "    </tr>\n",
       "  </tbody>\n",
       "</table>\n",
       "<p>3565 rows × 2 columns</p>\n",
       "</div>"
      ],
      "text/plain": [
       "                  path                                                 gt\n",
       "76420  train_76420.jpg  f = \\frac { A / n _ { 1 } } { B / n _ { 2 } } ...\n",
       "14331  train_14331.jpg  = \\lim _ { x \\to 0 } \\frac { 3 \\left( \\Delta x...\n",
       "67369  train_67369.jpg  R = \\left\\{ z \\leq - z _ { \\frac { d } { 2 } }...\n",
       "74534  train_74534.jpg             + \\lambda \\left( r - r ^ { * } \\right)\n",
       "7145   train_07145.jpg                                     3 3 9 \\times 2\n",
       "...                ...                                                ...\n",
       "93314  train_93314.jpg                   f \\left( x \\right) = e ^ { a x }\n",
       "76293  train_76293.jpg  + \\sum _ { t = 2 } ^ { n } \\delta t \\left( p ^...\n",
       "42844  train_42844.jpg     V \\subset U _ { k = 1 } ^ { \\infty } I _ { k }\n",
       "73151  train_73151.jpg  \\max _ { i = 1 } ^ { n } \\left| x _ { i } \\rig...\n",
       "14667  train_14667.jpg                           z \\in G \\left( x \\right)\n",
       "\n",
       "[3565 rows x 2 columns]"
      ]
     },
     "execution_count": 38,
     "metadata": {},
     "output_type": "execute_result"
    }
   ],
   "source": [
    "g.iloc[train_idx].loc[:, ['path', 'gt']]"
   ]
  },
  {
   "cell_type": "code",
   "execution_count": 34,
   "id": "8358b7a8-60d5-4ba7-8d53-27dcf22b11a3",
   "metadata": {},
   "outputs": [],
   "source": [
    "train_len = int(len(g) * (1-0.2))\n",
    "indexes = np.arange(len(g))\n",
    "np.random.shuffle(indexes)\n",
    "train_idx = indexes[:train_len]\n",
    "val_idx = indexes[train_len:]"
   ]
  },
  {
   "cell_type": "code",
   "execution_count": 36,
   "id": "0ead13b9-d638-4e00-9517-a673c24fcd14",
   "metadata": {},
   "outputs": [
    {
     "data": {
      "text/plain": [
       "(3565, 892)"
      ]
     },
     "execution_count": 36,
     "metadata": {},
     "output_type": "execute_result"
    }
   ],
   "source": [
    "len(train_idx), len(val_idx)"
   ]
  },
  {
   "cell_type": "code",
   "execution_count": null,
   "id": "9db8ec72-8395-4987-90ed-64bb848d297b",
   "metadata": {},
   "outputs": [],
   "source": []
  }
 ],
 "metadata": {
  "kernelspec": {
   "display_name": "Python 3",
   "language": "python",
   "name": "python3"
  },
  "language_info": {
   "codemirror_mode": {
    "name": "ipython",
    "version": 3
   },
   "file_extension": ".py",
   "mimetype": "text/x-python",
   "name": "python",
   "nbconvert_exporter": "python",
   "pygments_lexer": "ipython3",
   "version": "3.7.7"
  }
 },
 "nbformat": 4,
 "nbformat_minor": 5
}
