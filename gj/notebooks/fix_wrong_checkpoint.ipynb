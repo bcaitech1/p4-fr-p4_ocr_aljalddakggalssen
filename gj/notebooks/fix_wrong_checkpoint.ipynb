{
 "cells": [
  {
   "cell_type": "code",
   "execution_count": 1,
   "id": "9ad5893e-159b-41e7-98f3-a299f548f8fd",
   "metadata": {},
   "outputs": [
    {
     "name": "stdout",
     "output_type": "stream",
     "text": [
      "/opt/ml/team/gj/code\n"
     ]
    }
   ],
   "source": [
    "%cd ../code"
   ]
  },
  {
   "cell_type": "code",
   "execution_count": 2,
   "id": "d2934ed3-38ff-4958-85af-3f74e48740e4",
   "metadata": {},
   "outputs": [],
   "source": [
    "from checkpoint import (\n",
    "    default_checkpoint,\n",
    "    load_checkpoint,\n",
    "    save_checkpoint,\n",
    "    init_logging,\n",
    "    log_stuff,\n",
    "    log_best_stuff,\n",
    ")"
   ]
  },
  {
   "cell_type": "code",
   "execution_count": 15,
   "id": "ca126ad0-9047-41e1-a8a2-b06f2ee74836",
   "metadata": {},
   "outputs": [
    {
     "name": "stdout",
     "output_type": "stream",
     "text": [
      "0060.pth\n"
     ]
    }
   ],
   "source": [
    "!ls ~/team/given/checkpoints"
   ]
  },
  {
   "cell_type": "code",
   "execution_count": 16,
   "id": "27f6a42c-0094-4ce1-be60-c44a4e46e3d0",
   "metadata": {},
   "outputs": [],
   "source": [
    "checkpoint_file = \"/opt/ml/team/given/checkpoints/0060.pth\"\n",
    "checkpoint = load_checkpoint(checkpoint_file)"
   ]
  },
  {
   "cell_type": "code",
   "execution_count": 17,
   "id": "79b3f94f-f26e-4fac-a48b-adc6580fd1a2",
   "metadata": {},
   "outputs": [
    {
     "data": {
      "text/plain": [
       "{'train': ['/opt/ml/input/data/train_dataset/gt.txt'],\n",
       " 'test': [''],\n",
       " 'token_paths': ['/opt/ml/input/data/train_dataset/tokens.txt'],\n",
       " 'dataset_proportions': [1.0],\n",
       " 'random_split': True,\n",
       " 'test_proportions': 0.2,\n",
       " 'crop': True,\n",
       " 'rgb': 1,\n",
       " 'apply_clihe': True}"
      ]
     },
     "execution_count": 17,
     "metadata": {},
     "output_type": "execute_result"
    }
   ],
   "source": [
    "checkpoint['configs']['data']"
   ]
  },
  {
   "cell_type": "code",
   "execution_count": 12,
   "id": "1efde1ed-1028-4cae-a045-93abd683567b",
   "metadata": {},
   "outputs": [],
   "source": [
    "save_checkpoint(checkpoint,\n",
    "    prefix='/opt/ml/team/given',\n",
    "    save_type='',\n",
    ")"
   ]
  },
  {
   "cell_type": "code",
   "execution_count": 17,
   "id": "9163cd58-7095-43a2-9101-a7be6486cc31",
   "metadata": {},
   "outputs": [
    {
     "name": "stdout",
     "output_type": "stream",
     "text": [
      "0010.pth  best.pth\n"
     ]
    }
   ],
   "source": [
    "!ls {'/'.join(checkpoint_file.split(r\"/\")[:-1])}"
   ]
  },
  {
   "cell_type": "code",
   "execution_count": null,
   "id": "cf254b57-bdd7-40a8-bbf9-c4b52298405f",
   "metadata": {},
   "outputs": [],
   "source": []
  }
 ],
 "metadata": {
  "kernelspec": {
   "display_name": "Python 3",
   "language": "python",
   "name": "python3"
  },
  "language_info": {
   "codemirror_mode": {
    "name": "ipython",
    "version": 3
   },
   "file_extension": ".py",
   "mimetype": "text/x-python",
   "name": "python",
   "nbconvert_exporter": "python",
   "pygments_lexer": "ipython3",
   "version": "3.7.7"
  }
 },
 "nbformat": 4,
 "nbformat_minor": 5
}
