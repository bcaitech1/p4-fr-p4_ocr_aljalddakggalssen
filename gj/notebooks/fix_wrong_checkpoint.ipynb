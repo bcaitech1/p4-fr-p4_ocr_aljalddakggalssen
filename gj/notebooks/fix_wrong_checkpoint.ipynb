{
 "cells": [
  {
   "cell_type": "code",
   "execution_count": 9,
   "id": "9ad5893e-159b-41e7-98f3-a299f548f8fd",
   "metadata": {},
   "outputs": [
    {
     "name": "stdout",
     "output_type": "stream",
     "text": [
      "/opt/ml/team/gj/code\n"
     ]
    }
   ],
   "source": [
    "%cd ../code"
   ]
  },
  {
   "cell_type": "code",
   "execution_count": 10,
   "id": "d2934ed3-38ff-4958-85af-3f74e48740e4",
   "metadata": {},
   "outputs": [],
   "source": [
    "from checkpoint import (\n",
    "    default_checkpoint,\n",
    "    load_checkpoint,\n",
    "    save_checkpoint,\n",
    "    init_logging,\n",
    "    log_stuff,\n",
    "    log_best_stuff,\n",
    ")"
   ]
  },
  {
   "cell_type": "code",
   "execution_count": 11,
   "id": "ca126ad0-9047-41e1-a8a2-b06f2ee74836",
   "metadata": {},
   "outputs": [
    {
     "name": "stdout",
     "output_type": "stream",
     "text": [
      "checkpoints  log.txt  train_config.yaml\n"
     ]
    }
   ],
   "source": [
    "!ls ~/input/data/saving_model/satrn_flex_local_aware_long"
   ]
  },
  {
   "cell_type": "code",
   "execution_count": 12,
   "id": "27f6a42c-0094-4ce1-be60-c44a4e46e3d0",
   "metadata": {},
   "outputs": [],
   "source": [
    "checkpoint_file = \"/opt/ml/input/data/saving_model/satrn_test/checkpoints/best.pth\"\n",
    "checkpoint = load_checkpoint(checkpoint_file)"
   ]
  },
  {
   "cell_type": "code",
   "execution_count": 13,
   "id": "79b3f94f-f26e-4fac-a48b-adc6580fd1a2",
   "metadata": {},
   "outputs": [],
   "source": [
    "checkpoint['configs']['SATRN']['flexible_stn']['train_stn_only'] = False"
   ]
  },
  {
   "cell_type": "code",
   "execution_count": 15,
   "id": "ea7af04e-0dd5-4670-a189-8a223deb331f",
   "metadata": {},
   "outputs": [
    {
     "data": {
      "text/plain": [
       "{'train': ['/opt/ml/input/data/train_dataset/train_gt_s:0_l:1.txt',\n",
       "  '/opt/ml/input/data/train_dataset/train_gt_s:0_l:2.txt',\n",
       "  '/opt/ml/input/data/train_dataset/train_gt_s:0_l:3.txt',\n",
       "  '/opt/ml/input/data/train_dataset/train_gt_s:0_l:4.txt',\n",
       "  '/opt/ml/input/data/train_dataset/train_gt_s:0_l:5.txt',\n",
       "  '/opt/ml/input/data/train_dataset/train_gt_s:1_l:1.txt',\n",
       "  '/opt/ml/input/data/train_dataset/train_gt_s:1_l:2.txt',\n",
       "  '/opt/ml/input/data/train_dataset/train_gt_s:1_l:3.txt',\n",
       "  '/opt/ml/input/data/train_dataset/train_gt_s:1_l:4.txt'],\n",
       " 'test': ['/opt/ml/input/data/train_dataset/test_gt_s:0_l:1.txt',\n",
       "  '/opt/ml/input/data/train_dataset/test_gt_s:0_l:2.txt',\n",
       "  '/opt/ml/input/data/train_dataset/test_gt_s:0_l:3.txt',\n",
       "  '/opt/ml/input/data/train_dataset/test_gt_s:0_l:4.txt',\n",
       "  '/opt/ml/input/data/train_dataset/test_gt_s:0_l:5.txt',\n",
       "  '/opt/ml/input/data/train_dataset/test_gt_s:1_l:1.txt',\n",
       "  '/opt/ml/input/data/train_dataset/test_gt_s:1_l:2.txt',\n",
       "  '/opt/ml/input/data/train_dataset/test_gt_s:1_l:3.txt',\n",
       "  '/opt/ml/input/data/train_dataset/test_gt_s:1_l:4.txt'],\n",
       " 'token_paths': ['/opt/ml/input/data/train_dataset/tokens.txt'],\n",
       " 'source_paths': ['/opt/ml/input/data/train_dataset/source.txt'],\n",
       " 'level_paths': ['/opt/ml/input/data/train_dataset/level.txt'],\n",
       " 'dataset_proportions': [1.0],\n",
       " 'random_split': False,\n",
       " 'test_proportions': 0.2,\n",
       " 'crop': True,\n",
       " 'rgb': 1,\n",
       " 'flexible_image_size': True,\n",
       " 'use_small_data': True,\n",
       " 'is_reverse': True}"
      ]
     },
     "execution_count": 15,
     "metadata": {},
     "output_type": "execute_result"
    }
   ],
   "source": [
    "checkpoint['configs']['data']"
   ]
  },
  {
   "cell_type": "code",
   "execution_count": 30,
   "id": "1efde1ed-1028-4cae-a045-93abd683567b",
   "metadata": {},
   "outputs": [],
   "source": [
    "save_checkpoint(checkpoint,\n",
    "    prefix='/'.join(checkpoint_file.split(r\"/\")[:-2]),\n",
    "    save_type='',\n",
    ")"
   ]
  },
  {
   "cell_type": "code",
   "execution_count": 32,
   "id": "9163cd58-7095-43a2-9101-a7be6486cc31",
   "metadata": {},
   "outputs": [
    {
     "name": "stdout",
     "output_type": "stream",
     "text": [
      "0010.pth  best.pth  checkpoints\n"
     ]
    }
   ],
   "source": [
    "!ls {'/'.join(checkpoint_file.split(r\"/\")[:-1])}"
   ]
  },
  {
   "cell_type": "code",
   "execution_count": null,
   "id": "cf254b57-bdd7-40a8-bbf9-c4b52298405f",
   "metadata": {},
   "outputs": [],
   "source": []
  }
 ],
 "metadata": {
  "kernelspec": {
   "display_name": "Python 3",
   "language": "python",
   "name": "python3"
  },
  "language_info": {
   "codemirror_mode": {
    "name": "ipython",
    "version": 3
   },
   "file_extension": ".py",
   "mimetype": "text/x-python",
   "name": "python",
   "nbconvert_exporter": "python",
   "pygments_lexer": "ipython3",
   "version": "3.7.7"
  }
 },
 "nbformat": 4,
 "nbformat_minor": 5
}
