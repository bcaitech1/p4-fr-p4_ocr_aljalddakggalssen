{
 "cells": [
  {
   "cell_type": "code",
   "execution_count": 1,
   "id": "9ad5893e-159b-41e7-98f3-a299f548f8fd",
   "metadata": {},
   "outputs": [
    {
     "name": "stdout",
     "output_type": "stream",
     "text": [
      "/opt/ml/team/gj/code\n"
     ]
    }
   ],
   "source": [
    "%cd ../code"
   ]
  },
  {
   "cell_type": "code",
   "execution_count": 2,
   "id": "d2934ed3-38ff-4958-85af-3f74e48740e4",
   "metadata": {},
   "outputs": [],
   "source": [
    "from checkpoint import (\n",
    "    default_checkpoint,\n",
    "    load_checkpoint,\n",
    "    save_checkpoint,\n",
    "    init_logging,\n",
    "    log_stuff,\n",
    "    log_best_stuff,\n",
    ")"
   ]
  },
  {
   "cell_type": "code",
   "execution_count": 4,
   "id": "ca126ad0-9047-41e1-a8a2-b06f2ee74836",
   "metadata": {},
   "outputs": [
    {
     "name": "stdout",
     "output_type": "stream",
     "text": [
      "log\t\t\t  satrn_curr_longer_test       satrn_new_baseline\n",
      "satrn\t\t\t  satrn_decoder_mixed\t       satrn_new_baseline_test\n",
      "satrn_adaptive_2d\t  satrn_extra_pb\t       satrn_reverse\n",
      "satrn_adaptive_locality   satrn_finetune_lr\t       satrn_stn\n",
      "satrn_basic\t\t  satrn_finetune_lr_test       satrn_stn_test\n",
      "satrn_criterion\t\t  satrn_flex_local_aware_long  satrn_test\n",
      "satrn_criterion_test\t  satrn_flexible_size\t       satrn_tf_0\n",
      "satrn_cstr\t\t  satrn_large\t\t       satrn_tf_1\n",
      "satrn_cstr_test\t\t  satrn_large_test\t       satrn_tf_scheduler\n",
      "satrn_cur_best_long\t  satrn_locality_aware\t       satrn_tube\n",
      "satrn_cur_best_long_test  satrn_many_head\t       satrn_tube_enc\n",
      "satrn_curr\t\t  satrn_many_head_test\t       satrn_tube_test\n",
      "satrn_curr_diff_lrs\t  satrn_model_save\t       satrn_use_flip_channel\n"
     ]
    }
   ],
   "source": [
    "!ls ~/input/data/saving_model/"
   ]
  },
  {
   "cell_type": "code",
   "execution_count": 6,
   "id": "27f6a42c-0094-4ce1-be60-c44a4e46e3d0",
   "metadata": {},
   "outputs": [],
   "source": [
    "checkpoint_file = \"/opt/ml/input/data/saving_model/satrn_tf_0/checkpoints/best.pth\"\n",
    "checkpoint = load_checkpoint(checkpoint_file)"
   ]
  },
  {
   "cell_type": "code",
   "execution_count": 8,
   "id": "79b3f94f-f26e-4fac-a48b-adc6580fd1a2",
   "metadata": {},
   "outputs": [],
   "source": [
    "checkpoint['configs']['optimizer']['set_optimizer_from_checkpoint'] = True"
   ]
  },
  {
   "cell_type": "code",
   "execution_count": 9,
   "id": "1efde1ed-1028-4cae-a045-93abd683567b",
   "metadata": {},
   "outputs": [],
   "source": [
    "save_checkpoint(checkpoint,\n",
    "    prefix='/'.join(checkpoint_file.split(r\"/\")[:-2]),\n",
    "    save_type='',\n",
    ")"
   ]
  },
  {
   "cell_type": "code",
   "execution_count": 10,
   "id": "9163cd58-7095-43a2-9101-a7be6486cc31",
   "metadata": {},
   "outputs": [
    {
     "name": "stdout",
     "output_type": "stream",
     "text": [
      "0002.pth  best.pth\n"
     ]
    }
   ],
   "source": [
    "!ls {'/'.join(checkpoint_file.split(r\"/\")[:-1])}"
   ]
  },
  {
   "cell_type": "code",
   "execution_count": null,
   "id": "cf254b57-bdd7-40a8-bbf9-c4b52298405f",
   "metadata": {},
   "outputs": [],
   "source": []
  }
 ],
 "metadata": {
  "kernelspec": {
   "display_name": "Python 3",
   "language": "python",
   "name": "python3"
  },
  "language_info": {
   "codemirror_mode": {
    "name": "ipython",
    "version": 3
   },
   "file_extension": ".py",
   "mimetype": "text/x-python",
   "name": "python",
   "nbconvert_exporter": "python",
   "pygments_lexer": "ipython3",
   "version": "3.7.7"
  }
 },
 "nbformat": 4,
 "nbformat_minor": 5
}
