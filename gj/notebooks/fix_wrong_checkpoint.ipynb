{
 "cells": [
  {
   "cell_type": "code",
   "execution_count": 1,
   "id": "9ad5893e-159b-41e7-98f3-a299f548f8fd",
   "metadata": {},
   "outputs": [
    {
     "name": "stdout",
     "output_type": "stream",
     "text": [
      "/opt/ml/team/gj/code\n"
     ]
    }
   ],
   "source": [
    "%cd ../code"
   ]
  },
  {
   "cell_type": "code",
   "execution_count": 2,
   "id": "d2934ed3-38ff-4958-85af-3f74e48740e4",
   "metadata": {},
   "outputs": [],
   "source": [
    "from checkpoint import (\n",
    "    default_checkpoint,\n",
    "    load_checkpoint,\n",
    "    save_checkpoint,\n",
    "    init_logging,\n",
    "    log_stuff,\n",
    "    log_best_stuff,\n",
    ")"
   ]
  },
  {
   "cell_type": "code",
   "execution_count": 10,
   "id": "ca126ad0-9047-41e1-a8a2-b06f2ee74836",
   "metadata": {},
   "outputs": [
    {
     "name": "stdout",
     "output_type": "stream",
     "text": [
      "checkpoints  log.txt  train_config.yaml\n"
     ]
    }
   ],
   "source": [
    "!ls ~/input/data/saving_model/satrn_flex_local_aware_long"
   ]
  },
  {
   "cell_type": "code",
   "execution_count": 11,
   "id": "27f6a42c-0094-4ce1-be60-c44a4e46e3d0",
   "metadata": {},
   "outputs": [],
   "source": [
    "checkpoint = load_checkpoint('/opt/ml/input/data/saving_model/satrn_flex_local_aware_long/checkpoints/best.pth')"
   ]
  },
  {
   "cell_type": "code",
   "execution_count": 12,
   "id": "79b3f94f-f26e-4fac-a48b-adc6580fd1a2",
   "metadata": {},
   "outputs": [
    {
     "data": {
      "text/plain": [
       "{'encoder': {'hidden_dim': 300,\n",
       "  'filter_dim': 600,\n",
       "  'layer_num': 6,\n",
       "  'head_num': 8},\n",
       " 'decoder': {'src_dim': 300,\n",
       "  'hidden_dim': 128,\n",
       "  'filter_dim': 512,\n",
       "  'layer_num': 3,\n",
       "  'head_num': 8},\n",
       " 'use_adaptive_2d_encoding': False,\n",
       " 'solve_extra_pb': False,\n",
       " 'locality_aware_feedforward': True,\n",
       " 'use_tube': False}"
      ]
     },
     "execution_count": 12,
     "metadata": {},
     "output_type": "execute_result"
    }
   ],
   "source": [
    "checkpoint['configs']['SATRN']"
   ]
  },
  {
   "cell_type": "code",
   "execution_count": 11,
   "id": "ea7af04e-0dd5-4670-a189-8a223deb331f",
   "metadata": {},
   "outputs": [],
   "source": [
    "# checkpoint['configs']"
   ]
  },
  {
   "cell_type": "code",
   "execution_count": 12,
   "id": "1efde1ed-1028-4cae-a045-93abd683567b",
   "metadata": {},
   "outputs": [],
   "source": [
    "save_checkpoint(checkpoint,\n",
    "    prefix='/opt/ml/team/gj/code/log/satrn_flexible_size/',\n",
    "    save_best=False,\n",
    ")"
   ]
  },
  {
   "cell_type": "code",
   "execution_count": null,
   "id": "9163cd58-7095-43a2-9101-a7be6486cc31",
   "metadata": {},
   "outputs": [],
   "source": []
  }
 ],
 "metadata": {
  "kernelspec": {
   "display_name": "Python 3",
   "language": "python",
   "name": "python3"
  },
  "language_info": {
   "codemirror_mode": {
    "name": "ipython",
    "version": 3
   },
   "file_extension": ".py",
   "mimetype": "text/x-python",
   "name": "python",
   "nbconvert_exporter": "python",
   "pygments_lexer": "ipython3",
   "version": "3.7.7"
  }
 },
 "nbformat": 4,
 "nbformat_minor": 5
}
