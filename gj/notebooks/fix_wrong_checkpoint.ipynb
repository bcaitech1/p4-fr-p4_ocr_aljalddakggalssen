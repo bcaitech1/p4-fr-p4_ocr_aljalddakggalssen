{
 "cells": [
  {
   "cell_type": "code",
   "execution_count": 1,
   "id": "9ad5893e-159b-41e7-98f3-a299f548f8fd",
   "metadata": {},
   "outputs": [
    {
     "name": "stdout",
     "output_type": "stream",
     "text": [
      "/opt/ml/team/gj/code\n"
     ]
    }
   ],
   "source": [
    "%cd ../code"
   ]
  },
  {
   "cell_type": "code",
   "execution_count": 2,
   "id": "d2934ed3-38ff-4958-85af-3f74e48740e4",
   "metadata": {},
   "outputs": [],
   "source": [
    "from checkpoint import (\n",
    "    default_checkpoint,\n",
    "    load_checkpoint,\n",
    "    save_checkpoint,\n",
    "    init_logging,\n",
    "    log_stuff,\n",
    "    log_best_stuff,\n",
    ")"
   ]
  },
  {
   "cell_type": "code",
<<<<<<< HEAD
   "execution_count": 10,
=======
   "execution_count": 15,
>>>>>>> test
   "id": "ca126ad0-9047-41e1-a8a2-b06f2ee74836",
   "metadata": {},
   "outputs": [
    {
     "name": "stdout",
     "output_type": "stream",
     "text": [
<<<<<<< HEAD
      "checkpoints  log.txt  train_config.yaml\n"
=======
      "0060.pth\n"
>>>>>>> test
     ]
    }
   ],
   "source": [
<<<<<<< HEAD
    "!ls ~/input/data/saving_model/satrn_flex_local_aware_long"
=======
    "!ls ~/team/given/checkpoints"
>>>>>>> test
   ]
  },
  {
   "cell_type": "code",
<<<<<<< HEAD
   "execution_count": 11,
=======
   "execution_count": 16,
>>>>>>> test
   "id": "27f6a42c-0094-4ce1-be60-c44a4e46e3d0",
   "metadata": {},
   "outputs": [],
   "source": [
<<<<<<< HEAD
    "checkpoint = load_checkpoint('/opt/ml/input/data/saving_model/satrn_flex_local_aware_long/checkpoints/best.pth')"
=======
    "checkpoint_file = \"/opt/ml/team/given/checkpoints/0060.pth\"\n",
    "checkpoint = load_checkpoint(checkpoint_file)"
>>>>>>> test
   ]
  },
  {
   "cell_type": "code",
<<<<<<< HEAD
   "execution_count": 12,
=======
   "execution_count": 17,
>>>>>>> test
   "id": "79b3f94f-f26e-4fac-a48b-adc6580fd1a2",
   "metadata": {},
   "outputs": [
    {
     "data": {
      "text/plain": [
<<<<<<< HEAD
       "{'encoder': {'hidden_dim': 300,\n",
       "  'filter_dim': 600,\n",
       "  'layer_num': 6,\n",
       "  'head_num': 8},\n",
       " 'decoder': {'src_dim': 300,\n",
       "  'hidden_dim': 128,\n",
       "  'filter_dim': 512,\n",
       "  'layer_num': 3,\n",
       "  'head_num': 8},\n",
       " 'use_adaptive_2d_encoding': False,\n",
       " 'solve_extra_pb': False,\n",
       " 'locality_aware_feedforward': True,\n",
       " 'use_tube': False}"
      ]
     },
     "execution_count": 12,
=======
       "{'train': ['/opt/ml/input/data/train_dataset/gt.txt'],\n",
       " 'test': [''],\n",
       " 'token_paths': ['/opt/ml/input/data/train_dataset/tokens.txt'],\n",
       " 'dataset_proportions': [1.0],\n",
       " 'random_split': True,\n",
       " 'test_proportions': 0.2,\n",
       " 'crop': True,\n",
       " 'rgb': 1,\n",
       " 'apply_clihe': True}"
      ]
     },
     "execution_count": 17,
>>>>>>> test
     "metadata": {},
     "output_type": "execute_result"
    }
   ],
   "source": [
<<<<<<< HEAD
    "checkpoint['configs']['SATRN']"
=======
    "checkpoint['configs']['data']"
>>>>>>> test
   ]
  },
  {
   "cell_type": "code",
<<<<<<< HEAD
   "execution_count": 11,
   "id": "ea7af04e-0dd5-4670-a189-8a223deb331f",
   "metadata": {},
   "outputs": [],
   "source": [
    "# checkpoint['configs']"
=======
   "execution_count": 12,
   "id": "1efde1ed-1028-4cae-a045-93abd683567b",
   "metadata": {},
   "outputs": [],
   "source": [
    "save_checkpoint(checkpoint,\n",
    "    prefix='/opt/ml/team/given',\n",
    "    save_type='',\n",
    ")"
>>>>>>> test
   ]
  },
  {
   "cell_type": "code",
<<<<<<< HEAD
   "execution_count": 12,
   "id": "1efde1ed-1028-4cae-a045-93abd683567b",
   "metadata": {},
   "outputs": [],
   "source": [
    "save_checkpoint(checkpoint,\n",
    "    prefix='/opt/ml/team/gj/code/log/satrn_flexible_size/',\n",
    "    save_best=False,\n",
    ")"
=======
   "execution_count": 17,
   "id": "9163cd58-7095-43a2-9101-a7be6486cc31",
   "metadata": {},
   "outputs": [
    {
     "name": "stdout",
     "output_type": "stream",
     "text": [
      "0010.pth  best.pth\n"
     ]
    }
   ],
   "source": [
    "!ls {'/'.join(checkpoint_file.split(r\"/\")[:-1])}"
>>>>>>> test
   ]
  },
  {
   "cell_type": "code",
   "execution_count": null,
<<<<<<< HEAD
   "id": "9163cd58-7095-43a2-9101-a7be6486cc31",
=======
   "id": "cf254b57-bdd7-40a8-bbf9-c4b52298405f",
>>>>>>> test
   "metadata": {},
   "outputs": [],
   "source": []
  }
 ],
 "metadata": {
  "kernelspec": {
   "display_name": "Python 3",
   "language": "python",
   "name": "python3"
  },
  "language_info": {
   "codemirror_mode": {
    "name": "ipython",
    "version": 3
   },
   "file_extension": ".py",
   "mimetype": "text/x-python",
   "name": "python",
   "nbconvert_exporter": "python",
   "pygments_lexer": "ipython3",
   "version": "3.7.7"
  }
 },
 "nbformat": 4,
 "nbformat_minor": 5
}
