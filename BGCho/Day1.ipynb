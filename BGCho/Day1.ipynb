{
 "metadata": {
  "language_info": {
   "codemirror_mode": {
    "name": "ipython",
    "version": 3
   },
   "file_extension": ".py",
   "mimetype": "text/x-python",
   "name": "python",
   "nbconvert_exporter": "python",
   "pygments_lexer": "ipython3",
   "version": "3.7.7"
  },
  "orig_nbformat": 2,
  "kernelspec": {
   "name": "python377jvsc74a57bd098b0a9b7b4eaaa670588a142fd0a9b87eaafe866f1db4228be72b4211d12040f",
   "display_name": "Python 3.7.7 64-bit ('base': conda)"
  }
 },
 "nbformat": 4,
 "nbformat_minor": 2,
 "cells": [
  {
   "cell_type": "code",
   "execution_count": 1,
   "metadata": {},
   "outputs": [],
   "source": [
    "from matplotlib import pyplot as plt"
   ]
  },
  {
   "cell_type": "code",
   "execution_count": 1,
   "metadata": {},
   "outputs": [
    {
     "output_type": "stream",
     "name": "stdout",
     "text": [
      "--2021-05-24 06:03:37--  https://prod-aistages-public.s3.amazonaws.com/app/Competitions/000043/data/train_dataset.zip\n",
      "Resolving prod-aistages-public.s3.amazonaws.com (prod-aistages-public.s3.amazonaws.com)... 52.219.60.102\n",
      "Connecting to prod-aistages-public.s3.amazonaws.com (prod-aistages-public.s3.amazonaws.com)|52.219.60.102|:443... connected.\n",
      "HTTP request sent, awaiting response... 200 OK\n",
      "Length: 14378267466 (13G) [application/zip]\n",
      "Saving to: ‘train_dataset.zip’\n",
      "\n",
      "train_dataset.zip   100%[===================>]  13.39G  65.4MB/s    in 3m 28s  \n",
      "\n",
      "2021-05-24 06:07:04 (66.0 MB/s) - ‘train_dataset.zip’ saved [14378267466/14378267466]\n",
      "\n"
     ]
    }
   ],
   "source": [
    "# !wget https://prod-aistages-public.s3.amazonaws.com/app/Competitions/000043/data/train_dataset.zip"
   ]
  },
  {
   "cell_type": "code",
   "execution_count": 152,
   "metadata": {
    "tags": []
   },
   "outputs": [
    {
     "output_type": "stream",
     "name": "stdout",
     "text": [
      "Collecting matplotlib\n",
      "  Downloading matplotlib-3.4.2-cp37-cp37m-manylinux1_x86_64.whl (10.3 MB)\n",
      "\u001b[K     |████████████████████████████████| 10.3 MB 9.9 MB/s \n",
      "\u001b[?25hRequirement already satisfied: pyparsing>=2.2.1 in /opt/conda/lib/python3.7/site-packages (from matplotlib) (2.4.7)\n",
      "Collecting cycler>=0.10\n",
      "  Downloading cycler-0.10.0-py2.py3-none-any.whl (6.5 kB)\n",
      "Requirement already satisfied: numpy>=1.16 in /opt/conda/lib/python3.7/site-packages (from matplotlib) (1.18.5)\n",
      "Requirement already satisfied: python-dateutil>=2.7 in /opt/conda/lib/python3.7/site-packages (from matplotlib) (2.8.1)\n",
      "Requirement already satisfied: pillow>=6.2.0 in /opt/conda/lib/python3.7/site-packages (from matplotlib) (7.2.0)\n",
      "Collecting kiwisolver>=1.0.1\n",
      "  Downloading kiwisolver-1.3.1-cp37-cp37m-manylinux1_x86_64.whl (1.1 MB)\n",
      "\u001b[K     |████████████████████████████████| 1.1 MB 18.0 MB/s \n",
      "\u001b[?25hRequirement already satisfied: six in /opt/conda/lib/python3.7/site-packages (from cycler>=0.10->matplotlib) (1.14.0)\n",
      "Installing collected packages: cycler, kiwisolver, matplotlib\n",
      "Successfully installed cycler-0.10.0 kiwisolver-1.3.1 matplotlib-3.4.2\n"
     ]
    }
   ],
   "source": [
    "# !pip install matplotlib"
   ]
  },
  {
   "cell_type": "code",
   "execution_count": 3,
   "metadata": {
    "tags": []
   },
   "outputs": [
    {
     "output_type": "stream",
     "name": "stderr",
     "text": [
      "/opt/conda/lib/python3.7/site-packages/ipykernel_launcher.py:10: ParserWarning: Falling back to the 'python' engine because the 'c' engine does not support regex separators (separators > 1 char and different from '\\s+' are interpreted as regex); you can avoid this warning by specifying engine='python'.\n  # Remove the CWD from sys.path while we load stuff.\n"
     ]
    }
   ],
   "source": [
    "# !pip install pandas\n",
    "\n",
    "# 주어진 파일이름, 난이도, source 종류, 수식 ground truth 값 등을 읽고 분리해서 table 생성\n",
    "import pandas as pd\n",
    "dir_cur=os.getcwd()\n",
    "ruf_table=pd.DataFrame()\n",
    "level=pd.read_csv(os.path.join(dir_cur,'train_dataset/level.txt'),names=['id','level'],delim_whitespace=True)\n",
    "source=pd.read_csv(os.path.join(dir_cur,'train_dataset/source.txt'),names=['id','source'],delim_whitespace=True)\n",
    "gt=pd.read_csv(os.path.join(dir_cur,'train_dataset/gt.txt'),names=['id'])\n",
    "tokens=pd.read_csv(os.path.join(dir_cur,'train_dataset/tokens.txt'),names=['chars'],delimiter='/n')\n",
    "train_table=pd.DataFrame()\n",
    "train_table['id']=level['id']\n",
    "id=[]\n",
    "lines=[]\n",
    "tok_list=[]\n",
    "for i in range(len(tokens['chars'])):\n",
    "    tok_list.append(tokens.loc[i,'chars'])\n",
    "\n",
    "for i in range(len(gt['id'])):\n",
    "    a,b=gt.loc[i,'id'].split('\\t')\n",
    "    lines.append(b)\n",
    "    id.append(a)\n",
    "train_table['id']=id\n",
    "train_table['equat']=lines\n",
    "train_table['level']=level['level']\n",
    "train_table['source']=source['source']\n",
    "# token dict의 경우 tokens에 포함된 글자들이 train data에 얼마나 들어있는지 sum 한 결과\n",
    "tok_dict={}\n",
    "freq=[]\n",
    "length=[]\n",
    "for i in tok_list:\n",
    "    tok_dict[i]=0\n",
    "for str in train_table['equat']:\n",
    "    sep=str.split(\" \")\n",
    "    priv_dict={}\n",
    "    for word in sep:\n",
    "        if word in tok_list:\n",
    "            tok_dict[word]+=1\n",
    "            try:\n",
    "                priv_dict[word]+=1\n",
    "            except: priv_dict[word]=1\n",
    "    length.append(sum(priv_dict.values()))\n",
    "    freq.append(priv_dict)\n",
    "# freq는 token 내용물이 해당 수식에 몇개나 들어있는지 sum\n",
    "train_table['freq']=freq\n",
    "# len의 경우 freq를 기반으로 이 수식이 얼마나 긴지 알려주는 지표? 그런거\n",
    "train_table['len']=length\n"
   ]
  },
  {
   "cell_type": "code",
   "execution_count": 4,
   "metadata": {},
   "outputs": [
    {
     "output_type": "execute_result",
     "data": {
      "text/plain": [
       "                    id                                              equat  \\\n",
       "0      train_00000.jpg                                   4 \\times 7 = 2 8   \n",
       "1      train_00001.jpg                                      a ^ { x } > q   \n",
       "2      train_00002.jpg                                         8 \\times 9   \n",
       "3      train_00003.jpg  \\sum _ { k = 1 } ^ { n - 1 } b _ { k } = a _ {...   \n",
       "4      train_00004.jpg                                      I = d q / d t   \n",
       "...                ...                                                ...   \n",
       "99995  train_99995.jpg               P \\left( X = x _ { i } \\right) = p i   \n",
       "99996  train_99996.jpg  = 2 a ^ { 2 } + 2 b ^ { 2 } + 2 c ^ { 2 } - 2 ...   \n",
       "99997  train_99997.jpg                                            y - 3 =   \n",
       "99998  train_99998.jpg  \\int _ { 0 } ^ { k } \\frac { e ^ { x } } { e ^...   \n",
       "99999  train_99999.jpg                                        5 ! = 1 2 0   \n",
       "\n",
       "       level  source                                               freq  len  \n",
       "0          1       1  {'4': 1, '\\times': 1, '7': 1, '=': 1, '2': 1, ...    6  \n",
       "1          2       0  {'a': 1, '^': 1, '{': 1, 'x': 1, '}': 1, '>': ...    7  \n",
       "2          2       0                      {'8': 1, '\\times': 1, '9': 1}    3  \n",
       "3          3       1  {'\\sum': 1, '_': 4, '{': 5, 'k': 2, '=': 2, '1...   30  \n",
       "4          4       0   {'I': 1, '=': 1, 'd': 2, 'q': 1, '/': 1, 't': 1}    7  \n",
       "...      ...     ...                                                ...  ...  \n",
       "99995      3       1  {'P': 1, '\\left(': 1, 'X': 1, '=': 2, 'x': 1, ...   13  \n",
       "99996      2       0  {'=': 1, '2': 7, 'a': 2, '^': 3, '{': 3, '}': ...   26  \n",
       "99997      2       0                   {'y': 1, '-': 1, '3': 1, '=': 1}    4  \n",
       "99998      3       1  {'\\int': 1, '_': 2, '{': 9, '0': 2, '}': 9, '^...   46  \n",
       "99999      2       0   {'5': 1, '!': 1, '=': 1, '1': 1, '2': 1, '0': 1}    6  \n",
       "\n",
       "[100000 rows x 6 columns]"
      ],
      "text/html": "<div>\n<style scoped>\n    .dataframe tbody tr th:only-of-type {\n        vertical-align: middle;\n    }\n\n    .dataframe tbody tr th {\n        vertical-align: top;\n    }\n\n    .dataframe thead th {\n        text-align: right;\n    }\n</style>\n<table border=\"1\" class=\"dataframe\">\n  <thead>\n    <tr style=\"text-align: right;\">\n      <th></th>\n      <th>id</th>\n      <th>equat</th>\n      <th>level</th>\n      <th>source</th>\n      <th>freq</th>\n      <th>len</th>\n    </tr>\n  </thead>\n  <tbody>\n    <tr>\n      <th>0</th>\n      <td>train_00000.jpg</td>\n      <td>4 \\times 7 = 2 8</td>\n      <td>1</td>\n      <td>1</td>\n      <td>{'4': 1, '\\times': 1, '7': 1, '=': 1, '2': 1, ...</td>\n      <td>6</td>\n    </tr>\n    <tr>\n      <th>1</th>\n      <td>train_00001.jpg</td>\n      <td>a ^ { x } &gt; q</td>\n      <td>2</td>\n      <td>0</td>\n      <td>{'a': 1, '^': 1, '{': 1, 'x': 1, '}': 1, '&gt;': ...</td>\n      <td>7</td>\n    </tr>\n    <tr>\n      <th>2</th>\n      <td>train_00002.jpg</td>\n      <td>8 \\times 9</td>\n      <td>2</td>\n      <td>0</td>\n      <td>{'8': 1, '\\times': 1, '9': 1}</td>\n      <td>3</td>\n    </tr>\n    <tr>\n      <th>3</th>\n      <td>train_00003.jpg</td>\n      <td>\\sum _ { k = 1 } ^ { n - 1 } b _ { k } = a _ {...</td>\n      <td>3</td>\n      <td>1</td>\n      <td>{'\\sum': 1, '_': 4, '{': 5, 'k': 2, '=': 2, '1...</td>\n      <td>30</td>\n    </tr>\n    <tr>\n      <th>4</th>\n      <td>train_00004.jpg</td>\n      <td>I = d q / d t</td>\n      <td>4</td>\n      <td>0</td>\n      <td>{'I': 1, '=': 1, 'd': 2, 'q': 1, '/': 1, 't': 1}</td>\n      <td>7</td>\n    </tr>\n    <tr>\n      <th>...</th>\n      <td>...</td>\n      <td>...</td>\n      <td>...</td>\n      <td>...</td>\n      <td>...</td>\n      <td>...</td>\n    </tr>\n    <tr>\n      <th>99995</th>\n      <td>train_99995.jpg</td>\n      <td>P \\left( X = x _ { i } \\right) = p i</td>\n      <td>3</td>\n      <td>1</td>\n      <td>{'P': 1, '\\left(': 1, 'X': 1, '=': 2, 'x': 1, ...</td>\n      <td>13</td>\n    </tr>\n    <tr>\n      <th>99996</th>\n      <td>train_99996.jpg</td>\n      <td>= 2 a ^ { 2 } + 2 b ^ { 2 } + 2 c ^ { 2 } - 2 ...</td>\n      <td>2</td>\n      <td>0</td>\n      <td>{'=': 1, '2': 7, 'a': 2, '^': 3, '{': 3, '}': ...</td>\n      <td>26</td>\n    </tr>\n    <tr>\n      <th>99997</th>\n      <td>train_99997.jpg</td>\n      <td>y - 3 =</td>\n      <td>2</td>\n      <td>0</td>\n      <td>{'y': 1, '-': 1, '3': 1, '=': 1}</td>\n      <td>4</td>\n    </tr>\n    <tr>\n      <th>99998</th>\n      <td>train_99998.jpg</td>\n      <td>\\int _ { 0 } ^ { k } \\frac { e ^ { x } } { e ^...</td>\n      <td>3</td>\n      <td>1</td>\n      <td>{'\\int': 1, '_': 2, '{': 9, '0': 2, '}': 9, '^...</td>\n      <td>46</td>\n    </tr>\n    <tr>\n      <th>99999</th>\n      <td>train_99999.jpg</td>\n      <td>5 ! = 1 2 0</td>\n      <td>2</td>\n      <td>0</td>\n      <td>{'5': 1, '!': 1, '=': 1, '1': 1, '2': 1, '0': 1}</td>\n      <td>6</td>\n    </tr>\n  </tbody>\n</table>\n<p>100000 rows × 6 columns</p>\n</div>"
     },
     "metadata": {},
     "execution_count": 4
    }
   ],
   "source": [
    "\n",
    "train_table\n",
    "# train_table['len']\n",
    "# train_table[train_table['level']==5]"
   ]
  },
  {
   "cell_type": "code",
   "execution_count": 169,
   "metadata": {},
   "outputs": [
    {
     "output_type": "error",
     "ename": "AttributeError",
     "evalue": "'dict_items' object has no attribute 'value'",
     "traceback": [
      "\u001b[0;31m---------------------------------------------------------------------------\u001b[0m",
      "\u001b[0;31mAttributeError\u001b[0m                            Traceback (most recent call last)",
      "\u001b[0;32m<ipython-input-169-1c2688d2a1c8>\u001b[0m in \u001b[0;36m<module>\u001b[0;34m\u001b[0m\n\u001b[1;32m      1\u001b[0m \u001b[0;31m# fig=plt.bar(zip(tok_dict))\u001b[0m\u001b[0;34m\u001b[0m\u001b[0;34m\u001b[0m\u001b[0;34m\u001b[0m\u001b[0m\n\u001b[1;32m      2\u001b[0m \u001b[0mmyList\u001b[0m\u001b[0;34m=\u001b[0m\u001b[0mtok_dict\u001b[0m\u001b[0;34m.\u001b[0m\u001b[0mitems\u001b[0m\u001b[0;34m(\u001b[0m\u001b[0;34m)\u001b[0m\u001b[0;34m\u001b[0m\u001b[0;34m\u001b[0m\u001b[0m\n\u001b[0;32m----> 3\u001b[0;31m \u001b[0mmyList\u001b[0m \u001b[0;34m=\u001b[0m \u001b[0msorted\u001b[0m\u001b[0;34m(\u001b[0m\u001b[0mmyList\u001b[0m\u001b[0;34m,\u001b[0m\u001b[0mkey\u001b[0m\u001b[0;34m=\u001b[0m\u001b[0mmyList\u001b[0m\u001b[0;34m.\u001b[0m\u001b[0mvalue\u001b[0m\u001b[0;34m(\u001b[0m\u001b[0;34m)\u001b[0m \u001b[0;34m)\u001b[0m\u001b[0;34m\u001b[0m\u001b[0;34m\u001b[0m\u001b[0m\n\u001b[0m\u001b[1;32m      4\u001b[0m \u001b[0;34m\u001b[0m\u001b[0m\n\u001b[1;32m      5\u001b[0m \u001b[0mx\u001b[0m\u001b[0;34m,\u001b[0m\u001b[0my\u001b[0m\u001b[0;34m=\u001b[0m\u001b[0mzip\u001b[0m\u001b[0;34m(\u001b[0m\u001b[0;34m*\u001b[0m\u001b[0mmyList\u001b[0m\u001b[0;34m)\u001b[0m\u001b[0;34m\u001b[0m\u001b[0;34m\u001b[0m\u001b[0m\n",
      "\u001b[0;31mAttributeError\u001b[0m: 'dict_items' object has no attribute 'value'"
     ]
    }
   ],
   "source": [
    "#여기서부터는 제가 matplotlib을 스스로 짠 적이 없어서.... 그만 저녁을 먹으러 가버렸습니다."
   ]
  },
  {
   "cell_type": "code",
   "execution_count": 64,
   "metadata": {},
   "outputs": [],
   "source": []
  },
  {
   "cell_type": "code",
   "execution_count": null,
   "metadata": {},
   "outputs": [],
   "source": []
  }
 ]
}