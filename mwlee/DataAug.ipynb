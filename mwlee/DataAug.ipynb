{
 "cells": [
  {
   "cell_type": "code",
   "execution_count": 1,
   "id": "e7d8a39a-f135-48fd-a09b-d38efadc863c",
   "metadata": {},
   "outputs": [
    {
     "name": "stdout",
     "output_type": "stream",
     "text": [
      "Collecting scikit-image\n",
      "  Using cached scikit_image-0.18.1-cp37-cp37m-manylinux1_x86_64.whl (29.2 MB)\n",
      "Collecting numpy>=1.16.5\n",
      "  Using cached numpy-1.20.3-cp37-cp37m-manylinux_2_12_x86_64.manylinux2010_x86_64.whl (15.3 MB)\n",
      "Requirement already satisfied, skipping upgrade: pillow!=7.1.0,!=7.1.1,>=4.3.0 in /opt/conda/lib/python3.7/site-packages (from scikit-image) (8.1.1)\n",
      "Requirement already satisfied, skipping upgrade: tifffile>=2019.7.26 in /opt/conda/lib/python3.7/site-packages (from scikit-image) (2021.4.8)\n",
      "Requirement already satisfied, skipping upgrade: scipy>=1.0.1 in /opt/conda/lib/python3.7/site-packages (from scikit-image) (1.2.0)\n",
      "Requirement already satisfied, skipping upgrade: matplotlib!=3.0.0,>=2.0.0 in /opt/conda/lib/python3.7/site-packages (from scikit-image) (3.4.2)\n",
      "Requirement already satisfied, skipping upgrade: imageio>=2.3.0 in /opt/conda/lib/python3.7/site-packages (from scikit-image) (2.9.0)\n",
      "Requirement already satisfied, skipping upgrade: networkx>=2.0 in /opt/conda/lib/python3.7/site-packages (from scikit-image) (2.5.1)\n",
      "Requirement already satisfied, skipping upgrade: PyWavelets>=1.1.1 in /opt/conda/lib/python3.7/site-packages (from scikit-image) (1.1.1)\n",
      "Requirement already satisfied, skipping upgrade: cycler>=0.10 in /opt/conda/lib/python3.7/site-packages (from matplotlib!=3.0.0,>=2.0.0->scikit-image) (0.10.0)\n",
      "Requirement already satisfied, skipping upgrade: python-dateutil>=2.7 in /opt/conda/lib/python3.7/site-packages (from matplotlib!=3.0.0,>=2.0.0->scikit-image) (2.8.1)\n",
      "Requirement already satisfied, skipping upgrade: kiwisolver>=1.0.1 in /opt/conda/lib/python3.7/site-packages (from matplotlib!=3.0.0,>=2.0.0->scikit-image) (1.3.1)\n",
      "Requirement already satisfied, skipping upgrade: pyparsing>=2.2.1 in /opt/conda/lib/python3.7/site-packages (from matplotlib!=3.0.0,>=2.0.0->scikit-image) (2.4.7)\n",
      "Requirement already satisfied, skipping upgrade: decorator<5,>=4.3 in /opt/conda/lib/python3.7/site-packages (from networkx>=2.0->scikit-image) (4.4.2)\n",
      "Requirement already satisfied, skipping upgrade: six in /opt/conda/lib/python3.7/site-packages (from cycler>=0.10->matplotlib!=3.0.0,>=2.0.0->scikit-image) (1.14.0)\n",
      "\u001b[31mERROR: sagemaker-training 3.9.2 has requirement scipy>=1.2.2, but you'll have scipy 1.2.0 which is incompatible.\u001b[0m\n",
      "Installing collected packages: numpy, scikit-image\n",
      "  Attempting uninstall: numpy\n",
      "    Found existing installation: numpy 1.15.4\n",
      "    Uninstalling numpy-1.15.4:\n",
      "      Successfully uninstalled numpy-1.15.4\n",
      "  Attempting uninstall: scikit-image\n",
      "    Found existing installation: scikit-image 0.14.1\n",
      "    Uninstalling scikit-image-0.14.1:\n",
      "      Successfully uninstalled scikit-image-0.14.1\n",
      "Successfully installed numpy-1.20.3 scikit-image-0.18.1\n"
     ]
    }
   ],
   "source": [
    "#하시고 나서 requirments.txt 다시 안돌려주시면 제출 에러납니다.\n",
    "!pip install scikit-image --upgrade"
   ]
  },
  {
   "cell_type": "code",
   "execution_count": 1,
   "id": "35557ac5-1821-4e73-9f3f-feaa5baebf5f",
   "metadata": {},
   "outputs": [
    {
     "name": "stderr",
     "output_type": "stream",
     "text": [
      "\n",
      "Bad key \"text.kerning_factor\" on line 4 in\n",
      "/opt/conda/lib/python3.7/site-packages/matplotlib/mpl-data/stylelib/_classic_test_patch.mplstyle.\n",
      "You probably need to get an updated matplotlibrc file from\n",
      "http://github.com/matplotlib/matplotlib/blob/master/matplotlibrc.template\n",
      "or from the matplotlib source distribution\n"
     ]
    },
    {
     "ename": "NameError",
     "evalue": "name 'cv2' is not defined",
     "output_type": "error",
     "traceback": [
      "\u001b[0;31m---------------------------------------------------------------------------\u001b[0m",
      "\u001b[0;31mNameError\u001b[0m                                 Traceback (most recent call last)",
      "\u001b[0;32m<ipython-input-1-f97b1ff66ba9>\u001b[0m in \u001b[0;36m<module>\u001b[0;34m\u001b[0m\n\u001b[1;32m     23\u001b[0m \u001b[0;34m\u001b[0m\u001b[0m\n\u001b[1;32m     24\u001b[0m     \u001b[0;31m#이미지 로드\u001b[0m\u001b[0;34m\u001b[0m\u001b[0;34m\u001b[0m\u001b[0;34m\u001b[0m\u001b[0m\n\u001b[0;32m---> 25\u001b[0;31m     \u001b[0mimg\u001b[0m \u001b[0;34m=\u001b[0m \u001b[0mcv2\u001b[0m\u001b[0;34m.\u001b[0m\u001b[0mimread\u001b[0m\u001b[0;34m(\u001b[0m\u001b[0mimg\u001b[0m\u001b[0;34m)\u001b[0m\u001b[0;34m\u001b[0m\u001b[0;34m\u001b[0m\u001b[0m\n\u001b[0m\u001b[1;32m     26\u001b[0m     \u001b[0mimg_own\u001b[0m \u001b[0;34m=\u001b[0m \u001b[0mimg\u001b[0m\u001b[0;34m\u001b[0m\u001b[0;34m\u001b[0m\u001b[0m\n\u001b[1;32m     27\u001b[0m     \u001b[0mimg_cl1\u001b[0m \u001b[0;34m=\u001b[0m \u001b[0mclaheCVT\u001b[0m\u001b[0;34m(\u001b[0m\u001b[0mimg_own\u001b[0m\u001b[0;34m)\u001b[0m\u001b[0;34m\u001b[0m\u001b[0;34m\u001b[0m\u001b[0m\n",
      "\u001b[0;31mNameError\u001b[0m: name 'cv2' is not defined"
     ]
    }
   ],
   "source": [
    "from glob import glob\n",
    "import matplotlib.pyplot as plt\n",
    "\n",
    "train_dir = 'input/data/train_dataset/'\n",
    "\n",
    "#필요한 파일 로드\n",
    "\n",
    "img_list = sorted(list(glob(train_dir + 'images/*')))\n",
    "\n",
    "def claheCVT(own_img) :\n",
    "    lab = cv2.cvtColor(own_img, cv2.COLOR_BGR2LAB)\n",
    "    lab_planes = cv2.split(lab)\n",
    "    clahe = cv2.createCLAHE(clipLimit = 2.0, tileGridSize = (8, 8))\n",
    "    lab_planes[0] = clahe.apply(lab_planes[0])\n",
    "    lab = cv2.merge(lab_planes)\n",
    "    cla_img = cv2.cvtColor(lab, cv2.COLOR_LAB2BGR)\n",
    "        \n",
    "    return cla_img\n",
    "\n",
    "#이미지 로드 및 AUG 수행\n",
    "for num, img in enumerate(img_list) :\n",
    "    img_name = 'xx' + img[-15:]\n",
    "    \n",
    "    #이미지 로드\n",
    "    img = cv2.imread(img)\n",
    "    img_own = img\n",
    "    img_cl1 = claheCVT(img_own)\n",
    "    img_cl2 = claheCVT(img_cl1)\n",
    "    \n",
    "    fig, (ax1, ax2, ax3) = plt.subplots(nrows=1, ncols=3, figsize=(6, 6))\n",
    "    ax1.imshow(img_own)\n",
    "    ax2.imshow(img_cl1)\n",
    "    ax3.imshow(img_cl2)\n",
    "    plt.show()\n",
    "    \n",
    "    if num == 10 : break"
   ]
  },
  {
   "cell_type": "code",
   "execution_count": 36,
   "id": "8735f6ac-8db4-4148-a3d6-3e2166e6cc5a",
   "metadata": {},
   "outputs": [
    {
     "name": "stdout",
     "output_type": "stream",
     "text": [
      "150000 150000 150000 150000\n"
     ]
    }
   ],
   "source": [
    "from glob import glob\n",
    "import random\n",
    "\n",
    "train_dir = 'input/data/train_dataset/'\n",
    "\n",
    "#필요한 파일 로드\n",
    "\n",
    "img_list = sorted(list(glob(train_dir + 'images/*')))\n",
    "\n",
    "f = open(train_dir + 'gt.txt', 'r')\n",
    "gt = f.readlines()\n",
    "f.close()\n",
    "\n",
    "f = open(train_dir + 'level.txt', 'r')\n",
    "lv = f.readlines()\n",
    "f.close()\n",
    "\n",
    "f = open(train_dir + 'source.txt', 'r')\n",
    "sc = f.readlines()\n",
    "f.close()\n",
    "\n",
    "\n",
    "print(len(img_list), len(gt), len(lv), len(sc))"
   ]
  },
  {
   "cell_type": "code",
   "execution_count": 37,
   "id": "4a7ce99c-ea0a-419b-98de-9d9ac128a231",
   "metadata": {},
   "outputs": [
    {
     "name": "stdout",
     "output_type": "stream",
     "text": [
      "50000 200000 200000 200000\n"
     ]
    }
   ],
   "source": [
    "#랜덤하게 1,000개 추출\n",
    "#직접 만들고 싶으시면 seed 값을 변경해가며 시도하시면 다양한 데이터셋을 만드실 수 있습니다.\n",
    "\n",
    "SEED = 59\n",
    "random.seed(SEED)\n",
    "aug_list = list(range(0, 100000))\n",
    "random.shuffle(aug_list)\n",
    "#1000개만 생성\n",
    "aug_list = sorted(aug_list[:50000])\n",
    "\n",
    "\n",
    "img_list_tmp = list()\n",
    "\n",
    "for i in aug_list :\n",
    "    img_list_tmp.append(img_list[i])\n",
    "    gt.append('xx' + gt[i])\n",
    "    lv.append('xx' + lv[i])\n",
    "    sc.append('xx' + sc[i])\n",
    "    \n",
    "img_list = img_list_tmp\n",
    "print(len(img_list), len(gt), len(lv), len(sc))"
   ]
  },
  {
   "cell_type": "code",
   "execution_count": 38,
   "id": "c884ad7c-f1ff-4798-974b-9db1ad3d7c43",
   "metadata": {
    "scrolled": true,
    "tags": []
   },
   "outputs": [
    {
     "ename": "TypeError",
     "evalue": "'int' object is not subscriptable",
     "output_type": "error",
     "traceback": [
      "\u001b[0;31m---------------------------------------------------------------------------\u001b[0m",
      "\u001b[0;31mTypeError\u001b[0m                                 Traceback (most recent call last)",
      "\u001b[0;32m<ipython-input-38-ce5550a8927e>\u001b[0m in \u001b[0;36m<module>\u001b[0;34m\u001b[0m\n\u001b[1;32m     32\u001b[0m     \u001b[0misChange\u001b[0m \u001b[0;34m=\u001b[0m \u001b[0mrandom\u001b[0m\u001b[0;34m.\u001b[0m\u001b[0mchoice\u001b[0m\u001b[0;34m(\u001b[0m\u001b[0;34m[\u001b[0m\u001b[0;32mTrue\u001b[0m\u001b[0;34m,\u001b[0m \u001b[0;32mTrue\u001b[0m\u001b[0;34m]\u001b[0m\u001b[0;34m)\u001b[0m\u001b[0;34m\u001b[0m\u001b[0;34m\u001b[0m\u001b[0m\n\u001b[1;32m     33\u001b[0m     \u001b[0;32mif\u001b[0m \u001b[0misChange\u001b[0m \u001b[0;34m:\u001b[0m\u001b[0;34m\u001b[0m\u001b[0;34m\u001b[0m\u001b[0m\n\u001b[0;32m---> 34\u001b[0;31m         \u001b[0;32mif\u001b[0m \u001b[0mimg\u001b[0m\u001b[0;34m.\u001b[0m\u001b[0msize\u001b[0m\u001b[0;34m[\u001b[0m\u001b[0;36m0\u001b[0m\u001b[0;34m]\u001b[0m \u001b[0;34m>\u001b[0m \u001b[0mimg\u001b[0m\u001b[0;34m.\u001b[0m\u001b[0msize\u001b[0m\u001b[0;34m[\u001b[0m\u001b[0;36m1\u001b[0m\u001b[0;34m]\u001b[0m \u001b[0;34m:\u001b[0m \u001b[0mimg\u001b[0m \u001b[0;34m=\u001b[0m \u001b[0mtransforms\u001b[0m\u001b[0;34m.\u001b[0m\u001b[0mRandomRotation\u001b[0m\u001b[0;34m(\u001b[0m\u001b[0;34m(\u001b[0m\u001b[0;36m90\u001b[0m\u001b[0;34m,\u001b[0m \u001b[0;36m90\u001b[0m\u001b[0;34m)\u001b[0m\u001b[0;34m,\u001b[0m \u001b[0mexpand\u001b[0m \u001b[0;34m=\u001b[0m \u001b[0;32mTrue\u001b[0m\u001b[0;34m)\u001b[0m\u001b[0;34m(\u001b[0m\u001b[0mimg\u001b[0m\u001b[0;34m)\u001b[0m\u001b[0;34m\u001b[0m\u001b[0;34m\u001b[0m\u001b[0m\n\u001b[0m\u001b[1;32m     35\u001b[0m         \u001b[0;32melse\u001b[0m \u001b[0;34m:\u001b[0m \u001b[0mimg\u001b[0m \u001b[0;34m=\u001b[0m \u001b[0mtransforms\u001b[0m\u001b[0;34m.\u001b[0m\u001b[0mRandomRotation\u001b[0m\u001b[0;34m(\u001b[0m\u001b[0;34m(\u001b[0m\u001b[0;34m-\u001b[0m\u001b[0;36m90\u001b[0m\u001b[0;34m,\u001b[0m \u001b[0;34m-\u001b[0m\u001b[0;36m90\u001b[0m\u001b[0;34m)\u001b[0m\u001b[0;34m,\u001b[0m \u001b[0mexpand\u001b[0m \u001b[0;34m=\u001b[0m \u001b[0;32mTrue\u001b[0m\u001b[0;34m)\u001b[0m\u001b[0;34m(\u001b[0m\u001b[0mimg\u001b[0m\u001b[0;34m)\u001b[0m\u001b[0;34m\u001b[0m\u001b[0;34m\u001b[0m\u001b[0m\n\u001b[1;32m     36\u001b[0m \u001b[0;34m\u001b[0m\u001b[0m\n",
      "\u001b[0;31mTypeError\u001b[0m: 'int' object is not subscriptable"
     ]
    }
   ],
   "source": [
    "import torch\n",
    "from PIL import Image\n",
    "import numpy\n",
    "from torchvision import transforms\n",
    "import cv2, os\n",
    "import matplotlib.pyplot as plt\n",
    "import numpy as np\n",
    "import albumentations as A\n",
    "from tqdm import tqdm\n",
    "\n",
    "#디렉터리 만들기\n",
    "dir_path = \"input/data/train_dataset_cpy\"\n",
    "if not(os.path.isdir(dir_path)) : \n",
    "    os.makedirs(dir_path)\n",
    "    os.makedirs(dir_path + \"/images\")\n",
    "\n",
    "#이미지 로드 및 AUG 수행\n",
    "for num, img in enumerate(img_list) :\n",
    "    img_name = 'xx' + img[-15:]\n",
    "    \n",
    "    #이미지 로드\n",
    "    img = cv2.imread(img)\n",
    "    img_own = img\n",
    "    \n",
    "    #numpy => Tensor\n",
    "    img = transforms.ToPILImage()(img) #.ToTensor()(img)\n",
    "    \n",
    "    #Rotate\n",
    "    #가로가 길면 세로로,\n",
    "    #세로가 길면 가로로\n",
    "    # 1/2 확률로 변환\n",
    "    isChange = random.choice([True, False])\n",
    "    if isChange :\n",
    "        if img.size[0] > img.size[1] : img = transforms.RandomRotation((90, 90), expand = True)(img)\n",
    "        else : img = transforms.RandomRotation((-90, -90), expand = True)(img)\n",
    "    \n",
    "    #RGB 재조정\n",
    "    img = transforms.ColorJitter(brightness = 0.5, contrast = 0.5, saturation = 0.5, hue = 0.5) (img)\n",
    "    \n",
    "    #A 사용을 위해 np 변환\n",
    "    img = np.array(img)\n",
    "    \n",
    "    #Distortion\n",
    "    img = A.OpticalDistortion(p=1, distort_limit = (-0.2, 0.2), shift_limit = (-0.1, 0.1))(image = img)[\"image\"]\n",
    "    img = A.GridDistortion(p=1, distort_limit=0.02)(image = img)[\"image\"]\n",
    "    \n",
    "    #2차 RGB 재조정\n",
    "    img = A.RGBShift(p=1)(image=img)[\"image\"]\n",
    "    \n",
    "    #CLAHE로 선명도 개선\n",
    "    #너무 잘보이게 바꾸는 경향이 있어 1/3 확률로 적용\n",
    "    img = A.CLAHE(p=0.33)(image = img)[\"image\"]\n",
    "    \n",
    "    #상황에 따른 노이즈 추가\n",
    "    \n",
    "    #종이에 볼펜으로 점 찍은 상황\n",
    "    img = A.CoarseDropout(p=0.8, max_holes = 20, max_width=1)(image = img)[\"image\"]\n",
    "    #카메라가 안좋은 상황\n",
    "    #img = A.RandomFog(p=0.8, fog_coef_upper=0.3)(image = img)[\"image\"]\n",
    "    #낙서 혹은 형광펜\n",
    "    img = A.RandomShadow(p=0.8, num_shadows_upper=1, shadow_dimension = 4)(image = img)[\"image\"]\n",
    "    #카메라가 심하게 흔들린 상황\n",
    "    img = A.Blur (p=0.8, blur_limit=5)(image = img)[\"image\"]\n",
    "    \n",
    "    #저장asd\n",
    "    img = Image.fromarray(img)\n",
    "    img.save(dir_path + \"/images/\" + img_name)\n",
    "    \n",
    "    if num % 1000 == 0 : print(num, '/', len(img_list))\n",
    "    '''\n",
    "    #1/4 확률로 시각화\n",
    "    willShow = random.choice([True, False, False, False])\n",
    "    if willShow :\n",
    "        fig, (ax1, ax2) = plt.subplots(nrows=1, ncols=2, figsize=(6, 6))\n",
    "        ax1.imshow(img_own)\n",
    "        ax2.imshow(img)\n",
    "        plt.show()\n",
    "    '''"
   ]
  },
  {
   "cell_type": "code",
   "execution_count": 31,
   "id": "c0a0449d-ef4b-4cc4-9480-84a44428f7a7",
   "metadata": {},
   "outputs": [],
   "source": [
    "#하지마 하면 안돼 제발 하지마 알았지 하지마\n",
    "\n",
    "with open(dir_path + \"/input.txt\", 'w') as f:\n",
    "    f.writelines(gt)\n",
    "        \n",
    "with open(dir_path + \"/gt.txt\", \"w\") as f:\n",
    "    f.writelines(gt)\n",
    "    \n",
    "with open(dir_path + \"/level.txt\", \"w\") as f:\n",
    "    f.writelines(lv)\n",
    "    \n",
    "with open(dir_path + \"/source.txt\", \"w\") as f :\n",
    "    f.writelines(sc)"
   ]
  },
  {
   "cell_type": "code",
   "execution_count": 21,
   "id": "ec8b702a-b25d-406d-8f0d-5e1432f9ef6f",
   "metadata": {},
   "outputs": [
    {
     "name": "stdout",
     "output_type": "stream",
     "text": [
      "Filesystem      Size  Used Avail Use% Mounted on\n",
      "overlay          99G   28G   66G  30% /\n",
      "tmpfs            64M     0   64M   0% /dev\n",
      "tmpfs            45G     0   45G   0% /sys/fs/cgroup\n",
      "shm             1.0G  4.0K  1.0G   1% /dev/shm\n",
      "/dev/xvdb1       99G   28G   66G  30% /etc/hosts\n",
      "tmpfs            45G   12K   45G   1% /proc/driver/nvidia\n",
      "/dev/xvda1       48G   29G   16G  65% /usr/bin/nvidia-smi\n",
      "tmpfs           8.9G   17M  8.9G   1% /run/nvidia-persistenced/socket\n",
      "udev             45G     0   45G   0% /dev/nvidia0\n",
      "tmpfs            45G     0   45G   0% /proc/acpi\n",
      "tmpfs            45G     0   45G   0% /proc/scsi\n",
      "tmpfs            45G     0   45G   0% /sys/firmware\n"
     ]
    }
   ],
   "source": [
    "!df -h"
   ]
  }
 ],
 "metadata": {
  "kernelspec": {
   "display_name": "Python 3",
   "language": "python",
   "name": "python3"
  },
  "language_info": {
   "codemirror_mode": {
    "name": "ipython",
    "version": 3
   },
   "file_extension": ".py",
   "mimetype": "text/x-python",
   "name": "python",
   "nbconvert_exporter": "python",
   "pygments_lexer": "ipython3",
   "version": "3.7.7"
  }
 },
 "nbformat": 4,
 "nbformat_minor": 5
}
